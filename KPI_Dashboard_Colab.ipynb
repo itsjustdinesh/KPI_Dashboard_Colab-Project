{
  "nbformat": 4,
  "nbformat_minor": 0,
  "metadata": {
    "colab": {
      "provenance": [],
      "toc_visible": true,
      "authorship_tag": "ABX9TyPSVFIQciu0XcGgsjyarnqH",
      "include_colab_link": true
    },
    "kernelspec": {
      "name": "python3",
      "display_name": "Python 3"
    },
    "language_info": {
      "name": "python"
    }
  },
  "cells": [
    {
      "cell_type": "markdown",
      "metadata": {
        "id": "view-in-github",
        "colab_type": "text"
      },
      "source": [
        "<a href=\"https://colab.research.google.com/github/itsjustdinesh/KPI_Dashboard_Colab-Project/blob/main/KPI_Dashboard_Colab.ipynb\" target=\"_parent\"><img src=\"https://colab.research.google.com/assets/colab-badge.svg\" alt=\"Open In Colab\"/></a>"
      ]
    },
    {
      "cell_type": "code",
      "source": [
        "# D.K. — KPI Dashboard restart (hand-typed)\n",
        "!pip install -q faker plotly statsmodels\n",
        "\n",
        "import pandas as pd\n",
        "import numpy as np\n",
        "import datetime\n",
        "from faker import Faker\n",
        "import plotly.express as px\n",
        "import plotly.graph_objects as go\n",
        "from statsmodels.tsa.arima.model import ARIMA\n",
        "import matplotlib.pyplot as plt\n",
        "\n",
        "np.random.seed(42)\n",
        "fake = Faker()\n",
        "print(\"Imports installed — ready\")\n"
      ],
      "metadata": {
        "colab": {
          "base_uri": "https://localhost:8080/"
        },
        "id": "KzTA59OuA2cw",
        "outputId": "b7dace6f-096b-492d-e911-5700b5290d23"
      },
      "execution_count": 4,
      "outputs": [
        {
          "output_type": "stream",
          "name": "stdout",
          "text": [
            "Imports installed — ready\n"
          ]
        }
      ]
    },
    {
      "cell_type": "code",
      "source": [
        "n_orders = 3000\n",
        "start_date = datetime.date(2022,1,1)\n",
        "end_date   = datetime.date(2024,9,30)\n",
        "date_range_days = (end_date - start_date).days\n",
        "\n",
        "regions = ['East','West','Central','South']\n",
        "states_by_region = {\n",
        "    'East': ['New York','New Jersey','Massachusetts','Pennsylvania'],\n",
        "    'West': ['California','Washington','Oregon','Nevada'],\n",
        "    'Central': ['Texas','Illinois','Ohio','Michigan'],\n",
        "    'South': ['Florida','Georgia','North Carolina','Tennessee']\n",
        "}\n",
        "categories = ['Furniture','Office Supplies','Technology']\n",
        "subcats = {\n",
        "    'Furniture': ['Bookcases','Chairs','Tables','Furnishings'],\n",
        "    'Office Supplies': ['Binders','Paper','Labels','Storage'],\n",
        "    'Technology': ['Phones','Accessories','Computers','Copiers']\n",
        "}\n",
        "ship_modes = ['Standard Class','Second Class','First Class','Same Day']\n",
        "\n",
        "print(\"Params ready — orders:\", n_orders)\n"
      ],
      "metadata": {
        "colab": {
          "base_uri": "https://localhost:8080/"
        },
        "id": "m3TkDtSlA5OA",
        "outputId": "8389ecfb-985d-4352-c643-487f6829445c"
      },
      "execution_count": 5,
      "outputs": [
        {
          "output_type": "stream",
          "name": "stdout",
          "text": [
            "Params ready — orders: 3000\n"
          ]
        }
      ]
    },
    {
      "cell_type": "code",
      "source": [
        "orders = []\n",
        "for i in range(1, n_orders + 1):\n",
        "    order_date = start_date + datetime.timedelta(days=int(np.random.randint(0, date_range_days + 1)))\n",
        "    ship_days = int(np.random.choice([1,2,3,5,7], p=[0.05,0.15,0.5,0.2,0.1]))\n",
        "    ship_date = order_date + datetime.timedelta(days=ship_days)\n",
        "\n",
        "    region = np.random.choice(regions)\n",
        "    state = np.random.choice(states_by_region[region])\n",
        "    category = np.random.choice(categories, p=[0.25,0.45,0.30])\n",
        "    subcategory = np.random.choice(subcats[category])\n",
        "\n",
        "    qty = int(np.random.poisson(2) + 1)\n",
        "    unit_base = {'Furniture':250, 'Office Supplies':20, 'Technology':700}\n",
        "    price_variation = float(np.random.normal(1, 0.12))\n",
        "    unit_price = max(3, round(unit_base[category] * price_variation, 2))\n",
        "\n",
        "    discount = float(np.random.choice([0.0,0.05,0.10,0.15,0.20], p=[0.6,0.15,0.12,0.08,0.05]))\n",
        "    sales = round(unit_price * qty * (1 - discount), 2)\n",
        "    cost_margin = {'Furniture':0.62,'Office Supplies':0.45,'Technology':0.58}\n",
        "    cost = round(unit_price * qty * cost_margin[category] * float(np.random.uniform(0.95,1.1)), 2)\n",
        "    profit = round(sales - cost, 2)\n",
        "\n",
        "    customer = fake.name()\n",
        "    order_id = f'ORD-{2024 + (i%3)}-{100000 + i}'\n",
        "    segment = np.random.choice(['Consumer','Corporate','Home Office'], p=[0.55,0.30,0.15])\n",
        "    ship_mode = np.random.choice(ship_modes, p=[0.6,0.2,0.15,0.05])\n",
        "\n",
        "    orders.append({\n",
        "        'OrderID': order_id,\n",
        "        'OrderDate': order_date,\n",
        "        'ShipDate': ship_date,\n",
        "        'Region': region,\n",
        "        'State': state,\n",
        "        'Category': category,\n",
        "        'Sub-Category': subcategory,\n",
        "        'Quantity': qty,\n",
        "        'UnitPrice': unit_price,\n",
        "        'Discount': discount,\n",
        "        'Sales': sales,\n",
        "        'Cost': cost,\n",
        "        'Profit': profit,\n",
        "        'CustomerName': customer,\n",
        "        'Segment': segment,\n",
        "        'ShipMode': ship_mode\n",
        "    })\n",
        "\n",
        "df = pd.DataFrame(orders)\n",
        "print(\"Generated dataframe rows:\", len(df))\n"
      ],
      "metadata": {
        "colab": {
          "base_uri": "https://localhost:8080/"
        },
        "id": "hFFoUZDBA6ug",
        "outputId": "9d03a269-a7ce-4d7c-86ef-d196ad29fac8"
      },
      "execution_count": 6,
      "outputs": [
        {
          "output_type": "stream",
          "name": "stdout",
          "text": [
            "Generated dataframe rows: 3000\n"
          ]
        }
      ]
    },
    {
      "cell_type": "code",
      "source": [
        "print(df.head(3))\n",
        "print(\"\\ndtypes:\\n\", df.dtypes)\n",
        "print(\"\\nmin/max OrderDate:\", df['OrderDate'].min(), df['OrderDate'].max())\n"
      ],
      "metadata": {
        "colab": {
          "base_uri": "https://localhost:8080/"
        },
        "id": "uf2HIN8xA8sI",
        "outputId": "dfa04093-0e9e-4464-e2e7-c0b46250cd12"
      },
      "execution_count": 7,
      "outputs": [
        {
          "output_type": "stream",
          "name": "stdout",
          "text": [
            "           OrderID   OrderDate    ShipDate   Region         State  \\\n",
            "0  ORD-2025-100001  2022-04-13  2022-04-18  Central          Ohio   \n",
            "1  ORD-2026-100002  2022-07-11  2022-07-18     East  Pennsylvania   \n",
            "2  ORD-2024-100003  2022-07-09  2022-07-11     West        Oregon   \n",
            "\n",
            "          Category Sub-Category  Quantity  UnitPrice  Discount    Sales  \\\n",
            "0       Technology       Phones         2     832.65      0.00  1665.30   \n",
            "1  Office Supplies      Binders         2      21.84      0.05    41.50   \n",
            "2  Office Supplies      Storage         2      17.24      0.00    34.48   \n",
            "\n",
            "      Cost  Profit     CustomerName      Segment        ShipMode  \n",
            "0  1058.10  607.20  Mrs. Anna Scott    Corporate  Standard Class  \n",
            "1    19.08   22.42  Patricia Turner     Consumer  Standard Class  \n",
            "2    16.95   17.53      John Wright  Home Office     First Class  \n",
            "\n",
            "dtypes:\n",
            " OrderID          object\n",
            "OrderDate        object\n",
            "ShipDate         object\n",
            "Region           object\n",
            "State            object\n",
            "Category         object\n",
            "Sub-Category     object\n",
            "Quantity          int64\n",
            "UnitPrice       float64\n",
            "Discount        float64\n",
            "Sales           float64\n",
            "Cost            float64\n",
            "Profit          float64\n",
            "CustomerName     object\n",
            "Segment          object\n",
            "ShipMode         object\n",
            "dtype: object\n",
            "\n",
            "min/max OrderDate: 2022-01-01 2024-09-30\n"
          ]
        }
      ]
    },
    {
      "cell_type": "code",
      "source": [
        "df['OrderDate'] = pd.to_datetime(df['OrderDate'])\n",
        "df['ShipDate']  = pd.to_datetime(df['ShipDate'])\n",
        "df['Year']  = df['OrderDate'].dt.year\n",
        "df['Month'] = df['OrderDate'].dt.to_period('M').astype(str)\n",
        "df['OrderWeek'] = df['OrderDate'].dt.isocalendar().week\n",
        "df['DeliveryDays'] = (df['ShipDate'] - df['OrderDate']).dt.days\n",
        "df['ProfitMargin'] = (df['Profit'] / df['Sales']).replace([np.inf, -np.inf], np.nan).fillna(0)\n",
        "\n",
        "print(\"Derived columns added\")\n",
        "display(df[['OrderDate','ShipDate','DeliveryDays','Month','ProfitMargin']].head(3))\n"
      ],
      "metadata": {
        "colab": {
          "base_uri": "https://localhost:8080/",
          "height": 161
        },
        "id": "Ks7NPwHTA-K5",
        "outputId": "9abccb42-de12-4547-864f-04fa6a84918c"
      },
      "execution_count": 8,
      "outputs": [
        {
          "output_type": "stream",
          "name": "stdout",
          "text": [
            "Derived columns added\n"
          ]
        },
        {
          "output_type": "display_data",
          "data": {
            "text/plain": [
              "   OrderDate   ShipDate  DeliveryDays    Month  ProfitMargin\n",
              "0 2022-04-13 2022-04-18             5  2022-04      0.364619\n",
              "1 2022-07-11 2022-07-18             7  2022-07      0.540241\n",
              "2 2022-07-09 2022-07-11             2  2022-07      0.508411"
            ],
            "text/html": [
              "\n",
              "  <div id=\"df-8376dea2-a18b-4f81-bbab-c5ed09c250f8\" class=\"colab-df-container\">\n",
              "    <div>\n",
              "<style scoped>\n",
              "    .dataframe tbody tr th:only-of-type {\n",
              "        vertical-align: middle;\n",
              "    }\n",
              "\n",
              "    .dataframe tbody tr th {\n",
              "        vertical-align: top;\n",
              "    }\n",
              "\n",
              "    .dataframe thead th {\n",
              "        text-align: right;\n",
              "    }\n",
              "</style>\n",
              "<table border=\"1\" class=\"dataframe\">\n",
              "  <thead>\n",
              "    <tr style=\"text-align: right;\">\n",
              "      <th></th>\n",
              "      <th>OrderDate</th>\n",
              "      <th>ShipDate</th>\n",
              "      <th>DeliveryDays</th>\n",
              "      <th>Month</th>\n",
              "      <th>ProfitMargin</th>\n",
              "    </tr>\n",
              "  </thead>\n",
              "  <tbody>\n",
              "    <tr>\n",
              "      <th>0</th>\n",
              "      <td>2022-04-13</td>\n",
              "      <td>2022-04-18</td>\n",
              "      <td>5</td>\n",
              "      <td>2022-04</td>\n",
              "      <td>0.364619</td>\n",
              "    </tr>\n",
              "    <tr>\n",
              "      <th>1</th>\n",
              "      <td>2022-07-11</td>\n",
              "      <td>2022-07-18</td>\n",
              "      <td>7</td>\n",
              "      <td>2022-07</td>\n",
              "      <td>0.540241</td>\n",
              "    </tr>\n",
              "    <tr>\n",
              "      <th>2</th>\n",
              "      <td>2022-07-09</td>\n",
              "      <td>2022-07-11</td>\n",
              "      <td>2</td>\n",
              "      <td>2022-07</td>\n",
              "      <td>0.508411</td>\n",
              "    </tr>\n",
              "  </tbody>\n",
              "</table>\n",
              "</div>\n",
              "    <div class=\"colab-df-buttons\">\n",
              "\n",
              "  <div class=\"colab-df-container\">\n",
              "    <button class=\"colab-df-convert\" onclick=\"convertToInteractive('df-8376dea2-a18b-4f81-bbab-c5ed09c250f8')\"\n",
              "            title=\"Convert this dataframe to an interactive table.\"\n",
              "            style=\"display:none;\">\n",
              "\n",
              "  <svg xmlns=\"http://www.w3.org/2000/svg\" height=\"24px\" viewBox=\"0 -960 960 960\">\n",
              "    <path d=\"M120-120v-720h720v720H120Zm60-500h600v-160H180v160Zm220 220h160v-160H400v160Zm0 220h160v-160H400v160ZM180-400h160v-160H180v160Zm440 0h160v-160H620v160ZM180-180h160v-160H180v160Zm440 0h160v-160H620v160Z\"/>\n",
              "  </svg>\n",
              "    </button>\n",
              "\n",
              "  <style>\n",
              "    .colab-df-container {\n",
              "      display:flex;\n",
              "      gap: 12px;\n",
              "    }\n",
              "\n",
              "    .colab-df-convert {\n",
              "      background-color: #E8F0FE;\n",
              "      border: none;\n",
              "      border-radius: 50%;\n",
              "      cursor: pointer;\n",
              "      display: none;\n",
              "      fill: #1967D2;\n",
              "      height: 32px;\n",
              "      padding: 0 0 0 0;\n",
              "      width: 32px;\n",
              "    }\n",
              "\n",
              "    .colab-df-convert:hover {\n",
              "      background-color: #E2EBFA;\n",
              "      box-shadow: 0px 1px 2px rgba(60, 64, 67, 0.3), 0px 1px 3px 1px rgba(60, 64, 67, 0.15);\n",
              "      fill: #174EA6;\n",
              "    }\n",
              "\n",
              "    .colab-df-buttons div {\n",
              "      margin-bottom: 4px;\n",
              "    }\n",
              "\n",
              "    [theme=dark] .colab-df-convert {\n",
              "      background-color: #3B4455;\n",
              "      fill: #D2E3FC;\n",
              "    }\n",
              "\n",
              "    [theme=dark] .colab-df-convert:hover {\n",
              "      background-color: #434B5C;\n",
              "      box-shadow: 0px 1px 3px 1px rgba(0, 0, 0, 0.15);\n",
              "      filter: drop-shadow(0px 1px 2px rgba(0, 0, 0, 0.3));\n",
              "      fill: #FFFFFF;\n",
              "    }\n",
              "  </style>\n",
              "\n",
              "    <script>\n",
              "      const buttonEl =\n",
              "        document.querySelector('#df-8376dea2-a18b-4f81-bbab-c5ed09c250f8 button.colab-df-convert');\n",
              "      buttonEl.style.display =\n",
              "        google.colab.kernel.accessAllowed ? 'block' : 'none';\n",
              "\n",
              "      async function convertToInteractive(key) {\n",
              "        const element = document.querySelector('#df-8376dea2-a18b-4f81-bbab-c5ed09c250f8');\n",
              "        const dataTable =\n",
              "          await google.colab.kernel.invokeFunction('convertToInteractive',\n",
              "                                                    [key], {});\n",
              "        if (!dataTable) return;\n",
              "\n",
              "        const docLinkHtml = 'Like what you see? Visit the ' +\n",
              "          '<a target=\"_blank\" href=https://colab.research.google.com/notebooks/data_table.ipynb>data table notebook</a>'\n",
              "          + ' to learn more about interactive tables.';\n",
              "        element.innerHTML = '';\n",
              "        dataTable['output_type'] = 'display_data';\n",
              "        await google.colab.output.renderOutput(dataTable, element);\n",
              "        const docLink = document.createElement('div');\n",
              "        docLink.innerHTML = docLinkHtml;\n",
              "        element.appendChild(docLink);\n",
              "      }\n",
              "    </script>\n",
              "  </div>\n",
              "\n",
              "\n",
              "    <div id=\"df-e08d75eb-e692-4566-96a2-673d161918ef\">\n",
              "      <button class=\"colab-df-quickchart\" onclick=\"quickchart('df-e08d75eb-e692-4566-96a2-673d161918ef')\"\n",
              "                title=\"Suggest charts\"\n",
              "                style=\"display:none;\">\n",
              "\n",
              "<svg xmlns=\"http://www.w3.org/2000/svg\" height=\"24px\"viewBox=\"0 0 24 24\"\n",
              "     width=\"24px\">\n",
              "    <g>\n",
              "        <path d=\"M19 3H5c-1.1 0-2 .9-2 2v14c0 1.1.9 2 2 2h14c1.1 0 2-.9 2-2V5c0-1.1-.9-2-2-2zM9 17H7v-7h2v7zm4 0h-2V7h2v10zm4 0h-2v-4h2v4z\"/>\n",
              "    </g>\n",
              "</svg>\n",
              "      </button>\n",
              "\n",
              "<style>\n",
              "  .colab-df-quickchart {\n",
              "      --bg-color: #E8F0FE;\n",
              "      --fill-color: #1967D2;\n",
              "      --hover-bg-color: #E2EBFA;\n",
              "      --hover-fill-color: #174EA6;\n",
              "      --disabled-fill-color: #AAA;\n",
              "      --disabled-bg-color: #DDD;\n",
              "  }\n",
              "\n",
              "  [theme=dark] .colab-df-quickchart {\n",
              "      --bg-color: #3B4455;\n",
              "      --fill-color: #D2E3FC;\n",
              "      --hover-bg-color: #434B5C;\n",
              "      --hover-fill-color: #FFFFFF;\n",
              "      --disabled-bg-color: #3B4455;\n",
              "      --disabled-fill-color: #666;\n",
              "  }\n",
              "\n",
              "  .colab-df-quickchart {\n",
              "    background-color: var(--bg-color);\n",
              "    border: none;\n",
              "    border-radius: 50%;\n",
              "    cursor: pointer;\n",
              "    display: none;\n",
              "    fill: var(--fill-color);\n",
              "    height: 32px;\n",
              "    padding: 0;\n",
              "    width: 32px;\n",
              "  }\n",
              "\n",
              "  .colab-df-quickchart:hover {\n",
              "    background-color: var(--hover-bg-color);\n",
              "    box-shadow: 0 1px 2px rgba(60, 64, 67, 0.3), 0 1px 3px 1px rgba(60, 64, 67, 0.15);\n",
              "    fill: var(--button-hover-fill-color);\n",
              "  }\n",
              "\n",
              "  .colab-df-quickchart-complete:disabled,\n",
              "  .colab-df-quickchart-complete:disabled:hover {\n",
              "    background-color: var(--disabled-bg-color);\n",
              "    fill: var(--disabled-fill-color);\n",
              "    box-shadow: none;\n",
              "  }\n",
              "\n",
              "  .colab-df-spinner {\n",
              "    border: 2px solid var(--fill-color);\n",
              "    border-color: transparent;\n",
              "    border-bottom-color: var(--fill-color);\n",
              "    animation:\n",
              "      spin 1s steps(1) infinite;\n",
              "  }\n",
              "\n",
              "  @keyframes spin {\n",
              "    0% {\n",
              "      border-color: transparent;\n",
              "      border-bottom-color: var(--fill-color);\n",
              "      border-left-color: var(--fill-color);\n",
              "    }\n",
              "    20% {\n",
              "      border-color: transparent;\n",
              "      border-left-color: var(--fill-color);\n",
              "      border-top-color: var(--fill-color);\n",
              "    }\n",
              "    30% {\n",
              "      border-color: transparent;\n",
              "      border-left-color: var(--fill-color);\n",
              "      border-top-color: var(--fill-color);\n",
              "      border-right-color: var(--fill-color);\n",
              "    }\n",
              "    40% {\n",
              "      border-color: transparent;\n",
              "      border-right-color: var(--fill-color);\n",
              "      border-top-color: var(--fill-color);\n",
              "    }\n",
              "    60% {\n",
              "      border-color: transparent;\n",
              "      border-right-color: var(--fill-color);\n",
              "    }\n",
              "    80% {\n",
              "      border-color: transparent;\n",
              "      border-right-color: var(--fill-color);\n",
              "      border-bottom-color: var(--fill-color);\n",
              "    }\n",
              "    90% {\n",
              "      border-color: transparent;\n",
              "      border-bottom-color: var(--fill-color);\n",
              "    }\n",
              "  }\n",
              "</style>\n",
              "\n",
              "      <script>\n",
              "        async function quickchart(key) {\n",
              "          const quickchartButtonEl =\n",
              "            document.querySelector('#' + key + ' button');\n",
              "          quickchartButtonEl.disabled = true;  // To prevent multiple clicks.\n",
              "          quickchartButtonEl.classList.add('colab-df-spinner');\n",
              "          try {\n",
              "            const charts = await google.colab.kernel.invokeFunction(\n",
              "                'suggestCharts', [key], {});\n",
              "          } catch (error) {\n",
              "            console.error('Error during call to suggestCharts:', error);\n",
              "          }\n",
              "          quickchartButtonEl.classList.remove('colab-df-spinner');\n",
              "          quickchartButtonEl.classList.add('colab-df-quickchart-complete');\n",
              "        }\n",
              "        (() => {\n",
              "          let quickchartButtonEl =\n",
              "            document.querySelector('#df-e08d75eb-e692-4566-96a2-673d161918ef button');\n",
              "          quickchartButtonEl.style.display =\n",
              "            google.colab.kernel.accessAllowed ? 'block' : 'none';\n",
              "        })();\n",
              "      </script>\n",
              "    </div>\n",
              "\n",
              "    </div>\n",
              "  </div>\n"
            ],
            "application/vnd.google.colaboratory.intrinsic+json": {
              "type": "dataframe",
              "summary": "{\n  \"name\": \"display(df[['OrderDate','ShipDate','DeliveryDays','Month','ProfitMargin']]\",\n  \"rows\": 3,\n  \"fields\": [\n    {\n      \"column\": \"OrderDate\",\n      \"properties\": {\n        \"dtype\": \"date\",\n        \"min\": \"2022-04-13 00:00:00\",\n        \"max\": \"2022-07-11 00:00:00\",\n        \"num_unique_values\": 3,\n        \"samples\": [\n          \"2022-04-13 00:00:00\",\n          \"2022-07-11 00:00:00\",\n          \"2022-07-09 00:00:00\"\n        ],\n        \"semantic_type\": \"\",\n        \"description\": \"\"\n      }\n    },\n    {\n      \"column\": \"ShipDate\",\n      \"properties\": {\n        \"dtype\": \"date\",\n        \"min\": \"2022-04-18 00:00:00\",\n        \"max\": \"2022-07-18 00:00:00\",\n        \"num_unique_values\": 3,\n        \"samples\": [\n          \"2022-04-18 00:00:00\",\n          \"2022-07-18 00:00:00\",\n          \"2022-07-11 00:00:00\"\n        ],\n        \"semantic_type\": \"\",\n        \"description\": \"\"\n      }\n    },\n    {\n      \"column\": \"DeliveryDays\",\n      \"properties\": {\n        \"dtype\": \"number\",\n        \"std\": 2,\n        \"min\": 2,\n        \"max\": 7,\n        \"num_unique_values\": 3,\n        \"samples\": [\n          5,\n          7,\n          2\n        ],\n        \"semantic_type\": \"\",\n        \"description\": \"\"\n      }\n    },\n    {\n      \"column\": \"Month\",\n      \"properties\": {\n        \"dtype\": \"object\",\n        \"num_unique_values\": 2,\n        \"samples\": [\n          \"2022-07\",\n          \"2022-04\"\n        ],\n        \"semantic_type\": \"\",\n        \"description\": \"\"\n      }\n    },\n    {\n      \"column\": \"ProfitMargin\",\n      \"properties\": {\n        \"dtype\": \"number\",\n        \"std\": 0.09357020068423674,\n        \"min\": 0.36461898756980726,\n        \"max\": 0.5402409638554218,\n        \"num_unique_values\": 3,\n        \"samples\": [\n          0.36461898756980726,\n          0.5402409638554218\n        ],\n        \"semantic_type\": \"\",\n        \"description\": \"\"\n      }\n    }\n  ]\n}"
            }
          },
          "metadata": {}
        }
      ]
    },
    {
      "cell_type": "code",
      "source": [
        "def compute_overall_kpis(df):\n",
        "    total_revenue = df['Sales'].sum()\n",
        "    total_orders = df['OrderID'].nunique()\n",
        "    avg_order_value = df.groupby('OrderID')['Sales'].sum().mean()\n",
        "    total_profit = df['Profit'].sum()\n",
        "    avg_margin = (total_profit / total_revenue) if total_revenue != 0 else 0\n",
        "    avg_delivery = df['DeliveryDays'].mean()\n",
        "    unique_customers = df['CustomerName'].nunique()\n",
        "    return {\n",
        "        'Total Revenue': round(total_revenue,2),\n",
        "        'Total Orders': int(total_orders),\n",
        "        'Avg Order Value': round(avg_order_value,2),\n",
        "        'Total Profit': round(total_profit,2),\n",
        "        'Avg Profit Margin': round(avg_margin,4),\n",
        "        'Avg Delivery Days': round(avg_delivery,2),\n",
        "        'Unique Customers': int(unique_customers)\n",
        "    }\n",
        "\n",
        "overall_kpis = compute_overall_kpis(df)\n",
        "for k,v in overall_kpis.items():\n",
        "    print(f\"{k:20s}: {v}\")\n"
      ],
      "metadata": {
        "colab": {
          "base_uri": "https://localhost:8080/"
        },
        "id": "ZZlTzlP5A_LZ",
        "outputId": "7c50df4a-64fc-48e1-e28c-e72a427f235c"
      },
      "execution_count": 9,
      "outputs": [
        {
          "output_type": "stream",
          "name": "stdout",
          "text": [
            "Total Revenue       : 2453813.41\n",
            "Total Orders        : 3000\n",
            "Avg Order Value     : 817.94\n",
            "Total Profit        : 925046.78\n",
            "Avg Profit Margin   : 0.377\n",
            "Avg Delivery Days   : 3.61\n",
            "Unique Customers    : 2945\n"
          ]
        }
      ]
    },
    {
      "cell_type": "code",
      "source": [
        "monthly = df.groupby('Month').agg({'Sales':'sum','Profit':'sum'}).reset_index()\n",
        "monthly['Month_dt'] = pd.to_datetime(monthly['Month'] + '-01')\n",
        "monthly = monthly.sort_values('Month_dt')\n",
        "\n",
        "sales_by_region = df.groupby('Region').agg({'Sales':'sum','Profit':'sum'}).reset_index().sort_values('Sales', ascending=False)\n",
        "sales_by_category = df.groupby('Category').agg({'Sales':'sum','Profit':'sum'}).reset_index().sort_values('Sales', ascending=False)\n",
        "\n",
        "print(\"Grouped tables ready\")\n",
        "print(monthly.head(2))\n"
      ],
      "metadata": {
        "colab": {
          "base_uri": "https://localhost:8080/"
        },
        "id": "kqpT6mfaBBiw",
        "outputId": "7d04a8a2-9d87-403e-a2c6-0d4ff84797dd"
      },
      "execution_count": 10,
      "outputs": [
        {
          "output_type": "stream",
          "name": "stdout",
          "text": [
            "Grouped tables ready\n",
            "     Month     Sales    Profit   Month_dt\n",
            "0  2022-01  76270.94  28233.97 2022-01-01\n",
            "1  2022-02  72542.98  27721.75 2022-02-01\n"
          ]
        }
      ]
    },
    {
      "cell_type": "code",
      "source": [
        "# Monthly trend\n",
        "fig_trend = px.line(monthly, x='Month_dt', y=['Sales','Profit'],\n",
        "                    labels={'value':'Amount (₹)','Month_dt':'Month'}, title='Monthly Sales & Profit Trend')\n",
        "fig_trend.update_layout(legend_title_text='Metric', hovermode='x unified', height=450)\n",
        "\n",
        "# Region bar\n",
        "fig_region = px.bar(sales_by_region, x='Region', y='Sales', text='Sales', title='Sales by Region', labels={'Sales':'Sales (₹)'})\n",
        "fig_region.update_traces(texttemplate='₹%{y:.0f}', textposition='outside')\n",
        "fig_region.update_layout(height=400)\n",
        "\n",
        "# Category donut\n",
        "fig_category = px.pie(sales_by_category, names='Category', values='Sales', title='Sales Share by Category', hole=0.35)\n",
        "fig_category.update_traces(textinfo='percent+label')\n",
        "\n",
        "# Delivery box\n",
        "fig_delivery = px.box(df, x='Region', y='DeliveryDays', points='outliers', title='Delivery Days Distribution by Region', labels={'DeliveryDays':'Delivery Time (days)'})\n",
        "fig_delivery.update_layout(height=450)\n",
        "\n",
        "# Segment pie\n",
        "seg_share = df.groupby('Segment')['Sales'].sum().reset_index()\n",
        "fig_segment = px.pie(seg_share, names='Segment', values='Sales', title='Sales Share by Customer Segment', hole=0.3)\n",
        "fig_segment.update_traces(textinfo='percent+label')\n",
        "\n",
        "print(\"Figures created — call .show() for each and download PNGs manually\")\n"
      ],
      "metadata": {
        "colab": {
          "base_uri": "https://localhost:8080/"
        },
        "id": "RGe6MoS2BCwx",
        "outputId": "cf37efd2-6355-450f-8cd1-8c2f04ecca8f"
      },
      "execution_count": 11,
      "outputs": [
        {
          "output_type": "stream",
          "name": "stdout",
          "text": [
            "Figures created — call .show() for each and download PNGs manually\n"
          ]
        }
      ]
    },
    {
      "cell_type": "code",
      "source": [
        "fig_trend.show()      # after it appears, click camera icon -> Download PNG (save as monthly_sales_trend.png)\n",
        "fig_region.show()     # download as sales_by_region.png\n",
        "fig_category.show()   # download as sales_by_category.png\n",
        "fig_delivery.show()   # download as delivery_days_region.png\n",
        "fig_segment.show()    # download as sales_by_segment.png\n"
      ],
      "metadata": {
        "colab": {
          "base_uri": "https://localhost:8080/",
          "height": 1000
        },
        "id": "_KRsKwb9BEDZ",
        "outputId": "f11f3bf1-3330-4129-f5f7-4f40dbb5e55e"
      },
      "execution_count": 12,
      "outputs": [
        {
          "output_type": "stream",
          "name": "stderr",
          "text": [
            "/usr/local/lib/python3.12/dist-packages/kaleido/_sync_server.py:11: UserWarning:\n",
            "\n",
            "\n",
            "\n",
            "Warning: You have Plotly version 5.24.1, which is not compatible with this version of Kaleido (1.1.0).\n",
            "\n",
            "This means that static image generation (e.g. `fig.write_image()`) will not work.\n",
            "\n",
            "Please upgrade Plotly to version 6.1.1 or greater, or downgrade Kaleido to version 0.2.1.\n",
            "\n",
            "\n"
          ]
        },
        {
          "output_type": "display_data",
          "data": {
            "text/html": [
              "<html>\n",
              "<head><meta charset=\"utf-8\" /></head>\n",
              "<body>\n",
              "    <div>            <script src=\"https://cdnjs.cloudflare.com/ajax/libs/mathjax/2.7.5/MathJax.js?config=TeX-AMS-MML_SVG\"></script><script type=\"text/javascript\">if (window.MathJax && window.MathJax.Hub && window.MathJax.Hub.Config) {window.MathJax.Hub.Config({SVG: {font: \"STIX-Web\"}});}</script>                <script type=\"text/javascript\">window.PlotlyConfig = {MathJaxConfig: 'local'};</script>\n",
              "        <script charset=\"utf-8\" src=\"https://cdn.plot.ly/plotly-2.35.2.min.js\"></script>                <div id=\"0787d5dc-7a44-4c70-b63d-95c540d9a3ba\" class=\"plotly-graph-div\" style=\"height:450px; width:100%;\"></div>            <script type=\"text/javascript\">                                    window.PLOTLYENV=window.PLOTLYENV || {};                                    if (document.getElementById(\"0787d5dc-7a44-4c70-b63d-95c540d9a3ba\")) {                    Plotly.newPlot(                        \"0787d5dc-7a44-4c70-b63d-95c540d9a3ba\",                        [{\"hovertemplate\":\"variable=Sales\\u003cbr\\u003eMonth=%{x}\\u003cbr\\u003eAmount (₹)=%{y}\\u003cextra\\u003e\\u003c\\u002fextra\\u003e\",\"legendgroup\":\"Sales\",\"line\":{\"color\":\"#636efa\",\"dash\":\"solid\"},\"marker\":{\"symbol\":\"circle\"},\"mode\":\"lines\",\"name\":\"Sales\",\"orientation\":\"v\",\"showlegend\":true,\"x\":[\"2022-01-01T00:00:00\",\"2022-02-01T00:00:00\",\"2022-03-01T00:00:00\",\"2022-04-01T00:00:00\",\"2022-05-01T00:00:00\",\"2022-06-01T00:00:00\",\"2022-07-01T00:00:00\",\"2022-08-01T00:00:00\",\"2022-09-01T00:00:00\",\"2022-10-01T00:00:00\",\"2022-11-01T00:00:00\",\"2022-12-01T00:00:00\",\"2023-01-01T00:00:00\",\"2023-02-01T00:00:00\",\"2023-03-01T00:00:00\",\"2023-04-01T00:00:00\",\"2023-05-01T00:00:00\",\"2023-06-01T00:00:00\",\"2023-07-01T00:00:00\",\"2023-08-01T00:00:00\",\"2023-09-01T00:00:00\",\"2023-10-01T00:00:00\",\"2023-11-01T00:00:00\",\"2023-12-01T00:00:00\",\"2024-01-01T00:00:00\",\"2024-02-01T00:00:00\",\"2024-03-01T00:00:00\",\"2024-04-01T00:00:00\",\"2024-05-01T00:00:00\",\"2024-06-01T00:00:00\",\"2024-07-01T00:00:00\",\"2024-08-01T00:00:00\",\"2024-09-01T00:00:00\"],\"xaxis\":\"x\",\"y\":[76270.94,72542.98,64918.58,74775.98,68553.8,75795.79,76612.57,74504.88,74612.03,83124.86,71785.78,82756.81,96003.66,68259.64,77479.89,58034.020000000004,72204.46,85350.93000000001,50196.21,109238.7,62771.98,61874.23,62892.28,51650.13,72448.68,79064.99,68690.68,54913.03,93917.69,79448.99,79583.16,98494.71,75040.35],\"yaxis\":\"y\",\"type\":\"scatter\"},{\"hovertemplate\":\"variable=Profit\\u003cbr\\u003eMonth=%{x}\\u003cbr\\u003eAmount (₹)=%{y}\\u003cextra\\u003e\\u003c\\u002fextra\\u003e\",\"legendgroup\":\"Profit\",\"line\":{\"color\":\"#EF553B\",\"dash\":\"solid\"},\"marker\":{\"symbol\":\"circle\"},\"mode\":\"lines\",\"name\":\"Profit\",\"orientation\":\"v\",\"showlegend\":true,\"x\":[\"2022-01-01T00:00:00\",\"2022-02-01T00:00:00\",\"2022-03-01T00:00:00\",\"2022-04-01T00:00:00\",\"2022-05-01T00:00:00\",\"2022-06-01T00:00:00\",\"2022-07-01T00:00:00\",\"2022-08-01T00:00:00\",\"2022-09-01T00:00:00\",\"2022-10-01T00:00:00\",\"2022-11-01T00:00:00\",\"2022-12-01T00:00:00\",\"2023-01-01T00:00:00\",\"2023-02-01T00:00:00\",\"2023-03-01T00:00:00\",\"2023-04-01T00:00:00\",\"2023-05-01T00:00:00\",\"2023-06-01T00:00:00\",\"2023-07-01T00:00:00\",\"2023-08-01T00:00:00\",\"2023-09-01T00:00:00\",\"2023-10-01T00:00:00\",\"2023-11-01T00:00:00\",\"2023-12-01T00:00:00\",\"2024-01-01T00:00:00\",\"2024-02-01T00:00:00\",\"2024-03-01T00:00:00\",\"2024-04-01T00:00:00\",\"2024-05-01T00:00:00\",\"2024-06-01T00:00:00\",\"2024-07-01T00:00:00\",\"2024-08-01T00:00:00\",\"2024-09-01T00:00:00\"],\"xaxis\":\"x\",\"y\":[28233.97,27721.75,24912.4,27323.31,24903.14,28434.53,29364.13,27275.54,28276.83,30762.07,27336.28,31349.72,35752.65,26101.46,29390.28,22110.65,27040.39,32408.02,18263.62,42418.53,23424.01,23279.02,24346.760000000002,18222.59,27855.61,31133.69,25790.32,19642.52,35199.72,30016.23,30018.76,37648.64,29089.64],\"yaxis\":\"y\",\"type\":\"scatter\"}],                        {\"template\":{\"data\":{\"histogram2dcontour\":[{\"type\":\"histogram2dcontour\",\"colorbar\":{\"outlinewidth\":0,\"ticks\":\"\"},\"colorscale\":[[0.0,\"#0d0887\"],[0.1111111111111111,\"#46039f\"],[0.2222222222222222,\"#7201a8\"],[0.3333333333333333,\"#9c179e\"],[0.4444444444444444,\"#bd3786\"],[0.5555555555555556,\"#d8576b\"],[0.6666666666666666,\"#ed7953\"],[0.7777777777777778,\"#fb9f3a\"],[0.8888888888888888,\"#fdca26\"],[1.0,\"#f0f921\"]]}],\"choropleth\":[{\"type\":\"choropleth\",\"colorbar\":{\"outlinewidth\":0,\"ticks\":\"\"}}],\"histogram2d\":[{\"type\":\"histogram2d\",\"colorbar\":{\"outlinewidth\":0,\"ticks\":\"\"},\"colorscale\":[[0.0,\"#0d0887\"],[0.1111111111111111,\"#46039f\"],[0.2222222222222222,\"#7201a8\"],[0.3333333333333333,\"#9c179e\"],[0.4444444444444444,\"#bd3786\"],[0.5555555555555556,\"#d8576b\"],[0.6666666666666666,\"#ed7953\"],[0.7777777777777778,\"#fb9f3a\"],[0.8888888888888888,\"#fdca26\"],[1.0,\"#f0f921\"]]}],\"heatmap\":[{\"type\":\"heatmap\",\"colorbar\":{\"outlinewidth\":0,\"ticks\":\"\"},\"colorscale\":[[0.0,\"#0d0887\"],[0.1111111111111111,\"#46039f\"],[0.2222222222222222,\"#7201a8\"],[0.3333333333333333,\"#9c179e\"],[0.4444444444444444,\"#bd3786\"],[0.5555555555555556,\"#d8576b\"],[0.6666666666666666,\"#ed7953\"],[0.7777777777777778,\"#fb9f3a\"],[0.8888888888888888,\"#fdca26\"],[1.0,\"#f0f921\"]]}],\"heatmapgl\":[{\"type\":\"heatmapgl\",\"colorbar\":{\"outlinewidth\":0,\"ticks\":\"\"},\"colorscale\":[[0.0,\"#0d0887\"],[0.1111111111111111,\"#46039f\"],[0.2222222222222222,\"#7201a8\"],[0.3333333333333333,\"#9c179e\"],[0.4444444444444444,\"#bd3786\"],[0.5555555555555556,\"#d8576b\"],[0.6666666666666666,\"#ed7953\"],[0.7777777777777778,\"#fb9f3a\"],[0.8888888888888888,\"#fdca26\"],[1.0,\"#f0f921\"]]}],\"contourcarpet\":[{\"type\":\"contourcarpet\",\"colorbar\":{\"outlinewidth\":0,\"ticks\":\"\"}}],\"contour\":[{\"type\":\"contour\",\"colorbar\":{\"outlinewidth\":0,\"ticks\":\"\"},\"colorscale\":[[0.0,\"#0d0887\"],[0.1111111111111111,\"#46039f\"],[0.2222222222222222,\"#7201a8\"],[0.3333333333333333,\"#9c179e\"],[0.4444444444444444,\"#bd3786\"],[0.5555555555555556,\"#d8576b\"],[0.6666666666666666,\"#ed7953\"],[0.7777777777777778,\"#fb9f3a\"],[0.8888888888888888,\"#fdca26\"],[1.0,\"#f0f921\"]]}],\"surface\":[{\"type\":\"surface\",\"colorbar\":{\"outlinewidth\":0,\"ticks\":\"\"},\"colorscale\":[[0.0,\"#0d0887\"],[0.1111111111111111,\"#46039f\"],[0.2222222222222222,\"#7201a8\"],[0.3333333333333333,\"#9c179e\"],[0.4444444444444444,\"#bd3786\"],[0.5555555555555556,\"#d8576b\"],[0.6666666666666666,\"#ed7953\"],[0.7777777777777778,\"#fb9f3a\"],[0.8888888888888888,\"#fdca26\"],[1.0,\"#f0f921\"]]}],\"mesh3d\":[{\"type\":\"mesh3d\",\"colorbar\":{\"outlinewidth\":0,\"ticks\":\"\"}}],\"scatter\":[{\"fillpattern\":{\"fillmode\":\"overlay\",\"size\":10,\"solidity\":0.2},\"type\":\"scatter\"}],\"parcoords\":[{\"type\":\"parcoords\",\"line\":{\"colorbar\":{\"outlinewidth\":0,\"ticks\":\"\"}}}],\"scatterpolargl\":[{\"type\":\"scatterpolargl\",\"marker\":{\"colorbar\":{\"outlinewidth\":0,\"ticks\":\"\"}}}],\"bar\":[{\"error_x\":{\"color\":\"#2a3f5f\"},\"error_y\":{\"color\":\"#2a3f5f\"},\"marker\":{\"line\":{\"color\":\"#E5ECF6\",\"width\":0.5},\"pattern\":{\"fillmode\":\"overlay\",\"size\":10,\"solidity\":0.2}},\"type\":\"bar\"}],\"scattergeo\":[{\"type\":\"scattergeo\",\"marker\":{\"colorbar\":{\"outlinewidth\":0,\"ticks\":\"\"}}}],\"scatterpolar\":[{\"type\":\"scatterpolar\",\"marker\":{\"colorbar\":{\"outlinewidth\":0,\"ticks\":\"\"}}}],\"histogram\":[{\"marker\":{\"pattern\":{\"fillmode\":\"overlay\",\"size\":10,\"solidity\":0.2}},\"type\":\"histogram\"}],\"scattergl\":[{\"type\":\"scattergl\",\"marker\":{\"colorbar\":{\"outlinewidth\":0,\"ticks\":\"\"}}}],\"scatter3d\":[{\"type\":\"scatter3d\",\"line\":{\"colorbar\":{\"outlinewidth\":0,\"ticks\":\"\"}},\"marker\":{\"colorbar\":{\"outlinewidth\":0,\"ticks\":\"\"}}}],\"scattermapbox\":[{\"type\":\"scattermapbox\",\"marker\":{\"colorbar\":{\"outlinewidth\":0,\"ticks\":\"\"}}}],\"scatterternary\":[{\"type\":\"scatterternary\",\"marker\":{\"colorbar\":{\"outlinewidth\":0,\"ticks\":\"\"}}}],\"scattercarpet\":[{\"type\":\"scattercarpet\",\"marker\":{\"colorbar\":{\"outlinewidth\":0,\"ticks\":\"\"}}}],\"carpet\":[{\"aaxis\":{\"endlinecolor\":\"#2a3f5f\",\"gridcolor\":\"white\",\"linecolor\":\"white\",\"minorgridcolor\":\"white\",\"startlinecolor\":\"#2a3f5f\"},\"baxis\":{\"endlinecolor\":\"#2a3f5f\",\"gridcolor\":\"white\",\"linecolor\":\"white\",\"minorgridcolor\":\"white\",\"startlinecolor\":\"#2a3f5f\"},\"type\":\"carpet\"}],\"table\":[{\"cells\":{\"fill\":{\"color\":\"#EBF0F8\"},\"line\":{\"color\":\"white\"}},\"header\":{\"fill\":{\"color\":\"#C8D4E3\"},\"line\":{\"color\":\"white\"}},\"type\":\"table\"}],\"barpolar\":[{\"marker\":{\"line\":{\"color\":\"#E5ECF6\",\"width\":0.5},\"pattern\":{\"fillmode\":\"overlay\",\"size\":10,\"solidity\":0.2}},\"type\":\"barpolar\"}],\"pie\":[{\"automargin\":true,\"type\":\"pie\"}]},\"layout\":{\"autotypenumbers\":\"strict\",\"colorway\":[\"#636efa\",\"#EF553B\",\"#00cc96\",\"#ab63fa\",\"#FFA15A\",\"#19d3f3\",\"#FF6692\",\"#B6E880\",\"#FF97FF\",\"#FECB52\"],\"font\":{\"color\":\"#2a3f5f\"},\"hovermode\":\"closest\",\"hoverlabel\":{\"align\":\"left\"},\"paper_bgcolor\":\"white\",\"plot_bgcolor\":\"#E5ECF6\",\"polar\":{\"bgcolor\":\"#E5ECF6\",\"angularaxis\":{\"gridcolor\":\"white\",\"linecolor\":\"white\",\"ticks\":\"\"},\"radialaxis\":{\"gridcolor\":\"white\",\"linecolor\":\"white\",\"ticks\":\"\"}},\"ternary\":{\"bgcolor\":\"#E5ECF6\",\"aaxis\":{\"gridcolor\":\"white\",\"linecolor\":\"white\",\"ticks\":\"\"},\"baxis\":{\"gridcolor\":\"white\",\"linecolor\":\"white\",\"ticks\":\"\"},\"caxis\":{\"gridcolor\":\"white\",\"linecolor\":\"white\",\"ticks\":\"\"}},\"coloraxis\":{\"colorbar\":{\"outlinewidth\":0,\"ticks\":\"\"}},\"colorscale\":{\"sequential\":[[0.0,\"#0d0887\"],[0.1111111111111111,\"#46039f\"],[0.2222222222222222,\"#7201a8\"],[0.3333333333333333,\"#9c179e\"],[0.4444444444444444,\"#bd3786\"],[0.5555555555555556,\"#d8576b\"],[0.6666666666666666,\"#ed7953\"],[0.7777777777777778,\"#fb9f3a\"],[0.8888888888888888,\"#fdca26\"],[1.0,\"#f0f921\"]],\"sequentialminus\":[[0.0,\"#0d0887\"],[0.1111111111111111,\"#46039f\"],[0.2222222222222222,\"#7201a8\"],[0.3333333333333333,\"#9c179e\"],[0.4444444444444444,\"#bd3786\"],[0.5555555555555556,\"#d8576b\"],[0.6666666666666666,\"#ed7953\"],[0.7777777777777778,\"#fb9f3a\"],[0.8888888888888888,\"#fdca26\"],[1.0,\"#f0f921\"]],\"diverging\":[[0,\"#8e0152\"],[0.1,\"#c51b7d\"],[0.2,\"#de77ae\"],[0.3,\"#f1b6da\"],[0.4,\"#fde0ef\"],[0.5,\"#f7f7f7\"],[0.6,\"#e6f5d0\"],[0.7,\"#b8e186\"],[0.8,\"#7fbc41\"],[0.9,\"#4d9221\"],[1,\"#276419\"]]},\"xaxis\":{\"gridcolor\":\"white\",\"linecolor\":\"white\",\"ticks\":\"\",\"title\":{\"standoff\":15},\"zerolinecolor\":\"white\",\"automargin\":true,\"zerolinewidth\":2},\"yaxis\":{\"gridcolor\":\"white\",\"linecolor\":\"white\",\"ticks\":\"\",\"title\":{\"standoff\":15},\"zerolinecolor\":\"white\",\"automargin\":true,\"zerolinewidth\":2},\"scene\":{\"xaxis\":{\"backgroundcolor\":\"#E5ECF6\",\"gridcolor\":\"white\",\"linecolor\":\"white\",\"showbackground\":true,\"ticks\":\"\",\"zerolinecolor\":\"white\",\"gridwidth\":2},\"yaxis\":{\"backgroundcolor\":\"#E5ECF6\",\"gridcolor\":\"white\",\"linecolor\":\"white\",\"showbackground\":true,\"ticks\":\"\",\"zerolinecolor\":\"white\",\"gridwidth\":2},\"zaxis\":{\"backgroundcolor\":\"#E5ECF6\",\"gridcolor\":\"white\",\"linecolor\":\"white\",\"showbackground\":true,\"ticks\":\"\",\"zerolinecolor\":\"white\",\"gridwidth\":2}},\"shapedefaults\":{\"line\":{\"color\":\"#2a3f5f\"}},\"annotationdefaults\":{\"arrowcolor\":\"#2a3f5f\",\"arrowhead\":0,\"arrowwidth\":1},\"geo\":{\"bgcolor\":\"white\",\"landcolor\":\"#E5ECF6\",\"subunitcolor\":\"white\",\"showland\":true,\"showlakes\":true,\"lakecolor\":\"white\"},\"title\":{\"x\":0.05},\"mapbox\":{\"style\":\"light\"}}},\"xaxis\":{\"anchor\":\"y\",\"domain\":[0.0,1.0],\"title\":{\"text\":\"Month\"}},\"yaxis\":{\"anchor\":\"x\",\"domain\":[0.0,1.0],\"title\":{\"text\":\"Amount (₹)\"}},\"legend\":{\"title\":{\"text\":\"Metric\"},\"tracegroupgap\":0},\"title\":{\"text\":\"Monthly Sales & Profit Trend\"},\"hovermode\":\"x unified\",\"height\":450},                        {\"responsive\": true}                    ).then(function(){\n",
              "                            \n",
              "var gd = document.getElementById('0787d5dc-7a44-4c70-b63d-95c540d9a3ba');\n",
              "var x = new MutationObserver(function (mutations, observer) {{\n",
              "        var display = window.getComputedStyle(gd).display;\n",
              "        if (!display || display === 'none') {{\n",
              "            console.log([gd, 'removed!']);\n",
              "            Plotly.purge(gd);\n",
              "            observer.disconnect();\n",
              "        }}\n",
              "}});\n",
              "\n",
              "// Listen for the removal of the full notebook cells\n",
              "var notebookContainer = gd.closest('#notebook-container');\n",
              "if (notebookContainer) {{\n",
              "    x.observe(notebookContainer, {childList: true});\n",
              "}}\n",
              "\n",
              "// Listen for the clearing of the current output cell\n",
              "var outputEl = gd.closest('.output');\n",
              "if (outputEl) {{\n",
              "    x.observe(outputEl, {childList: true});\n",
              "}}\n",
              "\n",
              "                        })                };                            </script>        </div>\n",
              "</body>\n",
              "</html>"
            ]
          },
          "metadata": {}
        },
        {
          "output_type": "display_data",
          "data": {
            "text/html": [
              "<html>\n",
              "<head><meta charset=\"utf-8\" /></head>\n",
              "<body>\n",
              "    <div>            <script src=\"https://cdnjs.cloudflare.com/ajax/libs/mathjax/2.7.5/MathJax.js?config=TeX-AMS-MML_SVG\"></script><script type=\"text/javascript\">if (window.MathJax && window.MathJax.Hub && window.MathJax.Hub.Config) {window.MathJax.Hub.Config({SVG: {font: \"STIX-Web\"}});}</script>                <script type=\"text/javascript\">window.PlotlyConfig = {MathJaxConfig: 'local'};</script>\n",
              "        <script charset=\"utf-8\" src=\"https://cdn.plot.ly/plotly-2.35.2.min.js\"></script>                <div id=\"1289ada7-9809-4fa6-a512-6a022f27325a\" class=\"plotly-graph-div\" style=\"height:400px; width:100%;\"></div>            <script type=\"text/javascript\">                                    window.PLOTLYENV=window.PLOTLYENV || {};                                    if (document.getElementById(\"1289ada7-9809-4fa6-a512-6a022f27325a\")) {                    Plotly.newPlot(                        \"1289ada7-9809-4fa6-a512-6a022f27325a\",                        [{\"alignmentgroup\":\"True\",\"hovertemplate\":\"Region=%{x}\\u003cbr\\u003eSales (₹)=%{text}\\u003cextra\\u003e\\u003c\\u002fextra\\u003e\",\"legendgroup\":\"\",\"marker\":{\"color\":\"#636efa\",\"pattern\":{\"shape\":\"\"}},\"name\":\"\",\"offsetgroup\":\"\",\"orientation\":\"v\",\"showlegend\":false,\"text\":[658626.01,617299.69,608186.63,569701.08],\"textposition\":\"outside\",\"x\":[\"East\",\"West\",\"South\",\"Central\"],\"xaxis\":\"x\",\"y\":[658626.01,617299.69,608186.63,569701.08],\"yaxis\":\"y\",\"type\":\"bar\",\"texttemplate\":\"₹%{y:.0f}\"}],                        {\"template\":{\"data\":{\"histogram2dcontour\":[{\"type\":\"histogram2dcontour\",\"colorbar\":{\"outlinewidth\":0,\"ticks\":\"\"},\"colorscale\":[[0.0,\"#0d0887\"],[0.1111111111111111,\"#46039f\"],[0.2222222222222222,\"#7201a8\"],[0.3333333333333333,\"#9c179e\"],[0.4444444444444444,\"#bd3786\"],[0.5555555555555556,\"#d8576b\"],[0.6666666666666666,\"#ed7953\"],[0.7777777777777778,\"#fb9f3a\"],[0.8888888888888888,\"#fdca26\"],[1.0,\"#f0f921\"]]}],\"choropleth\":[{\"type\":\"choropleth\",\"colorbar\":{\"outlinewidth\":0,\"ticks\":\"\"}}],\"histogram2d\":[{\"type\":\"histogram2d\",\"colorbar\":{\"outlinewidth\":0,\"ticks\":\"\"},\"colorscale\":[[0.0,\"#0d0887\"],[0.1111111111111111,\"#46039f\"],[0.2222222222222222,\"#7201a8\"],[0.3333333333333333,\"#9c179e\"],[0.4444444444444444,\"#bd3786\"],[0.5555555555555556,\"#d8576b\"],[0.6666666666666666,\"#ed7953\"],[0.7777777777777778,\"#fb9f3a\"],[0.8888888888888888,\"#fdca26\"],[1.0,\"#f0f921\"]]}],\"heatmap\":[{\"type\":\"heatmap\",\"colorbar\":{\"outlinewidth\":0,\"ticks\":\"\"},\"colorscale\":[[0.0,\"#0d0887\"],[0.1111111111111111,\"#46039f\"],[0.2222222222222222,\"#7201a8\"],[0.3333333333333333,\"#9c179e\"],[0.4444444444444444,\"#bd3786\"],[0.5555555555555556,\"#d8576b\"],[0.6666666666666666,\"#ed7953\"],[0.7777777777777778,\"#fb9f3a\"],[0.8888888888888888,\"#fdca26\"],[1.0,\"#f0f921\"]]}],\"heatmapgl\":[{\"type\":\"heatmapgl\",\"colorbar\":{\"outlinewidth\":0,\"ticks\":\"\"},\"colorscale\":[[0.0,\"#0d0887\"],[0.1111111111111111,\"#46039f\"],[0.2222222222222222,\"#7201a8\"],[0.3333333333333333,\"#9c179e\"],[0.4444444444444444,\"#bd3786\"],[0.5555555555555556,\"#d8576b\"],[0.6666666666666666,\"#ed7953\"],[0.7777777777777778,\"#fb9f3a\"],[0.8888888888888888,\"#fdca26\"],[1.0,\"#f0f921\"]]}],\"contourcarpet\":[{\"type\":\"contourcarpet\",\"colorbar\":{\"outlinewidth\":0,\"ticks\":\"\"}}],\"contour\":[{\"type\":\"contour\",\"colorbar\":{\"outlinewidth\":0,\"ticks\":\"\"},\"colorscale\":[[0.0,\"#0d0887\"],[0.1111111111111111,\"#46039f\"],[0.2222222222222222,\"#7201a8\"],[0.3333333333333333,\"#9c179e\"],[0.4444444444444444,\"#bd3786\"],[0.5555555555555556,\"#d8576b\"],[0.6666666666666666,\"#ed7953\"],[0.7777777777777778,\"#fb9f3a\"],[0.8888888888888888,\"#fdca26\"],[1.0,\"#f0f921\"]]}],\"surface\":[{\"type\":\"surface\",\"colorbar\":{\"outlinewidth\":0,\"ticks\":\"\"},\"colorscale\":[[0.0,\"#0d0887\"],[0.1111111111111111,\"#46039f\"],[0.2222222222222222,\"#7201a8\"],[0.3333333333333333,\"#9c179e\"],[0.4444444444444444,\"#bd3786\"],[0.5555555555555556,\"#d8576b\"],[0.6666666666666666,\"#ed7953\"],[0.7777777777777778,\"#fb9f3a\"],[0.8888888888888888,\"#fdca26\"],[1.0,\"#f0f921\"]]}],\"mesh3d\":[{\"type\":\"mesh3d\",\"colorbar\":{\"outlinewidth\":0,\"ticks\":\"\"}}],\"scatter\":[{\"fillpattern\":{\"fillmode\":\"overlay\",\"size\":10,\"solidity\":0.2},\"type\":\"scatter\"}],\"parcoords\":[{\"type\":\"parcoords\",\"line\":{\"colorbar\":{\"outlinewidth\":0,\"ticks\":\"\"}}}],\"scatterpolargl\":[{\"type\":\"scatterpolargl\",\"marker\":{\"colorbar\":{\"outlinewidth\":0,\"ticks\":\"\"}}}],\"bar\":[{\"error_x\":{\"color\":\"#2a3f5f\"},\"error_y\":{\"color\":\"#2a3f5f\"},\"marker\":{\"line\":{\"color\":\"#E5ECF6\",\"width\":0.5},\"pattern\":{\"fillmode\":\"overlay\",\"size\":10,\"solidity\":0.2}},\"type\":\"bar\"}],\"scattergeo\":[{\"type\":\"scattergeo\",\"marker\":{\"colorbar\":{\"outlinewidth\":0,\"ticks\":\"\"}}}],\"scatterpolar\":[{\"type\":\"scatterpolar\",\"marker\":{\"colorbar\":{\"outlinewidth\":0,\"ticks\":\"\"}}}],\"histogram\":[{\"marker\":{\"pattern\":{\"fillmode\":\"overlay\",\"size\":10,\"solidity\":0.2}},\"type\":\"histogram\"}],\"scattergl\":[{\"type\":\"scattergl\",\"marker\":{\"colorbar\":{\"outlinewidth\":0,\"ticks\":\"\"}}}],\"scatter3d\":[{\"type\":\"scatter3d\",\"line\":{\"colorbar\":{\"outlinewidth\":0,\"ticks\":\"\"}},\"marker\":{\"colorbar\":{\"outlinewidth\":0,\"ticks\":\"\"}}}],\"scattermapbox\":[{\"type\":\"scattermapbox\",\"marker\":{\"colorbar\":{\"outlinewidth\":0,\"ticks\":\"\"}}}],\"scatterternary\":[{\"type\":\"scatterternary\",\"marker\":{\"colorbar\":{\"outlinewidth\":0,\"ticks\":\"\"}}}],\"scattercarpet\":[{\"type\":\"scattercarpet\",\"marker\":{\"colorbar\":{\"outlinewidth\":0,\"ticks\":\"\"}}}],\"carpet\":[{\"aaxis\":{\"endlinecolor\":\"#2a3f5f\",\"gridcolor\":\"white\",\"linecolor\":\"white\",\"minorgridcolor\":\"white\",\"startlinecolor\":\"#2a3f5f\"},\"baxis\":{\"endlinecolor\":\"#2a3f5f\",\"gridcolor\":\"white\",\"linecolor\":\"white\",\"minorgridcolor\":\"white\",\"startlinecolor\":\"#2a3f5f\"},\"type\":\"carpet\"}],\"table\":[{\"cells\":{\"fill\":{\"color\":\"#EBF0F8\"},\"line\":{\"color\":\"white\"}},\"header\":{\"fill\":{\"color\":\"#C8D4E3\"},\"line\":{\"color\":\"white\"}},\"type\":\"table\"}],\"barpolar\":[{\"marker\":{\"line\":{\"color\":\"#E5ECF6\",\"width\":0.5},\"pattern\":{\"fillmode\":\"overlay\",\"size\":10,\"solidity\":0.2}},\"type\":\"barpolar\"}],\"pie\":[{\"automargin\":true,\"type\":\"pie\"}]},\"layout\":{\"autotypenumbers\":\"strict\",\"colorway\":[\"#636efa\",\"#EF553B\",\"#00cc96\",\"#ab63fa\",\"#FFA15A\",\"#19d3f3\",\"#FF6692\",\"#B6E880\",\"#FF97FF\",\"#FECB52\"],\"font\":{\"color\":\"#2a3f5f\"},\"hovermode\":\"closest\",\"hoverlabel\":{\"align\":\"left\"},\"paper_bgcolor\":\"white\",\"plot_bgcolor\":\"#E5ECF6\",\"polar\":{\"bgcolor\":\"#E5ECF6\",\"angularaxis\":{\"gridcolor\":\"white\",\"linecolor\":\"white\",\"ticks\":\"\"},\"radialaxis\":{\"gridcolor\":\"white\",\"linecolor\":\"white\",\"ticks\":\"\"}},\"ternary\":{\"bgcolor\":\"#E5ECF6\",\"aaxis\":{\"gridcolor\":\"white\",\"linecolor\":\"white\",\"ticks\":\"\"},\"baxis\":{\"gridcolor\":\"white\",\"linecolor\":\"white\",\"ticks\":\"\"},\"caxis\":{\"gridcolor\":\"white\",\"linecolor\":\"white\",\"ticks\":\"\"}},\"coloraxis\":{\"colorbar\":{\"outlinewidth\":0,\"ticks\":\"\"}},\"colorscale\":{\"sequential\":[[0.0,\"#0d0887\"],[0.1111111111111111,\"#46039f\"],[0.2222222222222222,\"#7201a8\"],[0.3333333333333333,\"#9c179e\"],[0.4444444444444444,\"#bd3786\"],[0.5555555555555556,\"#d8576b\"],[0.6666666666666666,\"#ed7953\"],[0.7777777777777778,\"#fb9f3a\"],[0.8888888888888888,\"#fdca26\"],[1.0,\"#f0f921\"]],\"sequentialminus\":[[0.0,\"#0d0887\"],[0.1111111111111111,\"#46039f\"],[0.2222222222222222,\"#7201a8\"],[0.3333333333333333,\"#9c179e\"],[0.4444444444444444,\"#bd3786\"],[0.5555555555555556,\"#d8576b\"],[0.6666666666666666,\"#ed7953\"],[0.7777777777777778,\"#fb9f3a\"],[0.8888888888888888,\"#fdca26\"],[1.0,\"#f0f921\"]],\"diverging\":[[0,\"#8e0152\"],[0.1,\"#c51b7d\"],[0.2,\"#de77ae\"],[0.3,\"#f1b6da\"],[0.4,\"#fde0ef\"],[0.5,\"#f7f7f7\"],[0.6,\"#e6f5d0\"],[0.7,\"#b8e186\"],[0.8,\"#7fbc41\"],[0.9,\"#4d9221\"],[1,\"#276419\"]]},\"xaxis\":{\"gridcolor\":\"white\",\"linecolor\":\"white\",\"ticks\":\"\",\"title\":{\"standoff\":15},\"zerolinecolor\":\"white\",\"automargin\":true,\"zerolinewidth\":2},\"yaxis\":{\"gridcolor\":\"white\",\"linecolor\":\"white\",\"ticks\":\"\",\"title\":{\"standoff\":15},\"zerolinecolor\":\"white\",\"automargin\":true,\"zerolinewidth\":2},\"scene\":{\"xaxis\":{\"backgroundcolor\":\"#E5ECF6\",\"gridcolor\":\"white\",\"linecolor\":\"white\",\"showbackground\":true,\"ticks\":\"\",\"zerolinecolor\":\"white\",\"gridwidth\":2},\"yaxis\":{\"backgroundcolor\":\"#E5ECF6\",\"gridcolor\":\"white\",\"linecolor\":\"white\",\"showbackground\":true,\"ticks\":\"\",\"zerolinecolor\":\"white\",\"gridwidth\":2},\"zaxis\":{\"backgroundcolor\":\"#E5ECF6\",\"gridcolor\":\"white\",\"linecolor\":\"white\",\"showbackground\":true,\"ticks\":\"\",\"zerolinecolor\":\"white\",\"gridwidth\":2}},\"shapedefaults\":{\"line\":{\"color\":\"#2a3f5f\"}},\"annotationdefaults\":{\"arrowcolor\":\"#2a3f5f\",\"arrowhead\":0,\"arrowwidth\":1},\"geo\":{\"bgcolor\":\"white\",\"landcolor\":\"#E5ECF6\",\"subunitcolor\":\"white\",\"showland\":true,\"showlakes\":true,\"lakecolor\":\"white\"},\"title\":{\"x\":0.05},\"mapbox\":{\"style\":\"light\"}}},\"xaxis\":{\"anchor\":\"y\",\"domain\":[0.0,1.0],\"title\":{\"text\":\"Region\"}},\"yaxis\":{\"anchor\":\"x\",\"domain\":[0.0,1.0],\"title\":{\"text\":\"Sales (₹)\"}},\"legend\":{\"tracegroupgap\":0},\"title\":{\"text\":\"Sales by Region\"},\"barmode\":\"relative\",\"height\":400},                        {\"responsive\": true}                    ).then(function(){\n",
              "                            \n",
              "var gd = document.getElementById('1289ada7-9809-4fa6-a512-6a022f27325a');\n",
              "var x = new MutationObserver(function (mutations, observer) {{\n",
              "        var display = window.getComputedStyle(gd).display;\n",
              "        if (!display || display === 'none') {{\n",
              "            console.log([gd, 'removed!']);\n",
              "            Plotly.purge(gd);\n",
              "            observer.disconnect();\n",
              "        }}\n",
              "}});\n",
              "\n",
              "// Listen for the removal of the full notebook cells\n",
              "var notebookContainer = gd.closest('#notebook-container');\n",
              "if (notebookContainer) {{\n",
              "    x.observe(notebookContainer, {childList: true});\n",
              "}}\n",
              "\n",
              "// Listen for the clearing of the current output cell\n",
              "var outputEl = gd.closest('.output');\n",
              "if (outputEl) {{\n",
              "    x.observe(outputEl, {childList: true});\n",
              "}}\n",
              "\n",
              "                        })                };                            </script>        </div>\n",
              "</body>\n",
              "</html>"
            ]
          },
          "metadata": {}
        },
        {
          "output_type": "display_data",
          "data": {
            "text/html": [
              "<html>\n",
              "<head><meta charset=\"utf-8\" /></head>\n",
              "<body>\n",
              "    <div>            <script src=\"https://cdnjs.cloudflare.com/ajax/libs/mathjax/2.7.5/MathJax.js?config=TeX-AMS-MML_SVG\"></script><script type=\"text/javascript\">if (window.MathJax && window.MathJax.Hub && window.MathJax.Hub.Config) {window.MathJax.Hub.Config({SVG: {font: \"STIX-Web\"}});}</script>                <script type=\"text/javascript\">window.PlotlyConfig = {MathJaxConfig: 'local'};</script>\n",
              "        <script charset=\"utf-8\" src=\"https://cdn.plot.ly/plotly-2.35.2.min.js\"></script>                <div id=\"a65699c2-3c97-4977-90d2-73b67e8428b7\" class=\"plotly-graph-div\" style=\"height:525px; width:100%;\"></div>            <script type=\"text/javascript\">                                    window.PLOTLYENV=window.PLOTLYENV || {};                                    if (document.getElementById(\"a65699c2-3c97-4977-90d2-73b67e8428b7\")) {                    Plotly.newPlot(                        \"a65699c2-3c97-4977-90d2-73b67e8428b7\",                        [{\"domain\":{\"x\":[0.0,1.0],\"y\":[0.0,1.0]},\"hole\":0.35,\"hovertemplate\":\"Category=%{label}\\u003cbr\\u003eSales=%{value}\\u003cextra\\u003e\\u003c\\u002fextra\\u003e\",\"labels\":[\"Technology\",\"Furniture\",\"Office Supplies\"],\"legendgroup\":\"\",\"name\":\"\",\"showlegend\":true,\"values\":[1828056.31,549903.48,75853.62],\"type\":\"pie\",\"textinfo\":\"percent+label\"}],                        {\"template\":{\"data\":{\"histogram2dcontour\":[{\"type\":\"histogram2dcontour\",\"colorbar\":{\"outlinewidth\":0,\"ticks\":\"\"},\"colorscale\":[[0.0,\"#0d0887\"],[0.1111111111111111,\"#46039f\"],[0.2222222222222222,\"#7201a8\"],[0.3333333333333333,\"#9c179e\"],[0.4444444444444444,\"#bd3786\"],[0.5555555555555556,\"#d8576b\"],[0.6666666666666666,\"#ed7953\"],[0.7777777777777778,\"#fb9f3a\"],[0.8888888888888888,\"#fdca26\"],[1.0,\"#f0f921\"]]}],\"choropleth\":[{\"type\":\"choropleth\",\"colorbar\":{\"outlinewidth\":0,\"ticks\":\"\"}}],\"histogram2d\":[{\"type\":\"histogram2d\",\"colorbar\":{\"outlinewidth\":0,\"ticks\":\"\"},\"colorscale\":[[0.0,\"#0d0887\"],[0.1111111111111111,\"#46039f\"],[0.2222222222222222,\"#7201a8\"],[0.3333333333333333,\"#9c179e\"],[0.4444444444444444,\"#bd3786\"],[0.5555555555555556,\"#d8576b\"],[0.6666666666666666,\"#ed7953\"],[0.7777777777777778,\"#fb9f3a\"],[0.8888888888888888,\"#fdca26\"],[1.0,\"#f0f921\"]]}],\"heatmap\":[{\"type\":\"heatmap\",\"colorbar\":{\"outlinewidth\":0,\"ticks\":\"\"},\"colorscale\":[[0.0,\"#0d0887\"],[0.1111111111111111,\"#46039f\"],[0.2222222222222222,\"#7201a8\"],[0.3333333333333333,\"#9c179e\"],[0.4444444444444444,\"#bd3786\"],[0.5555555555555556,\"#d8576b\"],[0.6666666666666666,\"#ed7953\"],[0.7777777777777778,\"#fb9f3a\"],[0.8888888888888888,\"#fdca26\"],[1.0,\"#f0f921\"]]}],\"heatmapgl\":[{\"type\":\"heatmapgl\",\"colorbar\":{\"outlinewidth\":0,\"ticks\":\"\"},\"colorscale\":[[0.0,\"#0d0887\"],[0.1111111111111111,\"#46039f\"],[0.2222222222222222,\"#7201a8\"],[0.3333333333333333,\"#9c179e\"],[0.4444444444444444,\"#bd3786\"],[0.5555555555555556,\"#d8576b\"],[0.6666666666666666,\"#ed7953\"],[0.7777777777777778,\"#fb9f3a\"],[0.8888888888888888,\"#fdca26\"],[1.0,\"#f0f921\"]]}],\"contourcarpet\":[{\"type\":\"contourcarpet\",\"colorbar\":{\"outlinewidth\":0,\"ticks\":\"\"}}],\"contour\":[{\"type\":\"contour\",\"colorbar\":{\"outlinewidth\":0,\"ticks\":\"\"},\"colorscale\":[[0.0,\"#0d0887\"],[0.1111111111111111,\"#46039f\"],[0.2222222222222222,\"#7201a8\"],[0.3333333333333333,\"#9c179e\"],[0.4444444444444444,\"#bd3786\"],[0.5555555555555556,\"#d8576b\"],[0.6666666666666666,\"#ed7953\"],[0.7777777777777778,\"#fb9f3a\"],[0.8888888888888888,\"#fdca26\"],[1.0,\"#f0f921\"]]}],\"surface\":[{\"type\":\"surface\",\"colorbar\":{\"outlinewidth\":0,\"ticks\":\"\"},\"colorscale\":[[0.0,\"#0d0887\"],[0.1111111111111111,\"#46039f\"],[0.2222222222222222,\"#7201a8\"],[0.3333333333333333,\"#9c179e\"],[0.4444444444444444,\"#bd3786\"],[0.5555555555555556,\"#d8576b\"],[0.6666666666666666,\"#ed7953\"],[0.7777777777777778,\"#fb9f3a\"],[0.8888888888888888,\"#fdca26\"],[1.0,\"#f0f921\"]]}],\"mesh3d\":[{\"type\":\"mesh3d\",\"colorbar\":{\"outlinewidth\":0,\"ticks\":\"\"}}],\"scatter\":[{\"fillpattern\":{\"fillmode\":\"overlay\",\"size\":10,\"solidity\":0.2},\"type\":\"scatter\"}],\"parcoords\":[{\"type\":\"parcoords\",\"line\":{\"colorbar\":{\"outlinewidth\":0,\"ticks\":\"\"}}}],\"scatterpolargl\":[{\"type\":\"scatterpolargl\",\"marker\":{\"colorbar\":{\"outlinewidth\":0,\"ticks\":\"\"}}}],\"bar\":[{\"error_x\":{\"color\":\"#2a3f5f\"},\"error_y\":{\"color\":\"#2a3f5f\"},\"marker\":{\"line\":{\"color\":\"#E5ECF6\",\"width\":0.5},\"pattern\":{\"fillmode\":\"overlay\",\"size\":10,\"solidity\":0.2}},\"type\":\"bar\"}],\"scattergeo\":[{\"type\":\"scattergeo\",\"marker\":{\"colorbar\":{\"outlinewidth\":0,\"ticks\":\"\"}}}],\"scatterpolar\":[{\"type\":\"scatterpolar\",\"marker\":{\"colorbar\":{\"outlinewidth\":0,\"ticks\":\"\"}}}],\"histogram\":[{\"marker\":{\"pattern\":{\"fillmode\":\"overlay\",\"size\":10,\"solidity\":0.2}},\"type\":\"histogram\"}],\"scattergl\":[{\"type\":\"scattergl\",\"marker\":{\"colorbar\":{\"outlinewidth\":0,\"ticks\":\"\"}}}],\"scatter3d\":[{\"type\":\"scatter3d\",\"line\":{\"colorbar\":{\"outlinewidth\":0,\"ticks\":\"\"}},\"marker\":{\"colorbar\":{\"outlinewidth\":0,\"ticks\":\"\"}}}],\"scattermapbox\":[{\"type\":\"scattermapbox\",\"marker\":{\"colorbar\":{\"outlinewidth\":0,\"ticks\":\"\"}}}],\"scatterternary\":[{\"type\":\"scatterternary\",\"marker\":{\"colorbar\":{\"outlinewidth\":0,\"ticks\":\"\"}}}],\"scattercarpet\":[{\"type\":\"scattercarpet\",\"marker\":{\"colorbar\":{\"outlinewidth\":0,\"ticks\":\"\"}}}],\"carpet\":[{\"aaxis\":{\"endlinecolor\":\"#2a3f5f\",\"gridcolor\":\"white\",\"linecolor\":\"white\",\"minorgridcolor\":\"white\",\"startlinecolor\":\"#2a3f5f\"},\"baxis\":{\"endlinecolor\":\"#2a3f5f\",\"gridcolor\":\"white\",\"linecolor\":\"white\",\"minorgridcolor\":\"white\",\"startlinecolor\":\"#2a3f5f\"},\"type\":\"carpet\"}],\"table\":[{\"cells\":{\"fill\":{\"color\":\"#EBF0F8\"},\"line\":{\"color\":\"white\"}},\"header\":{\"fill\":{\"color\":\"#C8D4E3\"},\"line\":{\"color\":\"white\"}},\"type\":\"table\"}],\"barpolar\":[{\"marker\":{\"line\":{\"color\":\"#E5ECF6\",\"width\":0.5},\"pattern\":{\"fillmode\":\"overlay\",\"size\":10,\"solidity\":0.2}},\"type\":\"barpolar\"}],\"pie\":[{\"automargin\":true,\"type\":\"pie\"}]},\"layout\":{\"autotypenumbers\":\"strict\",\"colorway\":[\"#636efa\",\"#EF553B\",\"#00cc96\",\"#ab63fa\",\"#FFA15A\",\"#19d3f3\",\"#FF6692\",\"#B6E880\",\"#FF97FF\",\"#FECB52\"],\"font\":{\"color\":\"#2a3f5f\"},\"hovermode\":\"closest\",\"hoverlabel\":{\"align\":\"left\"},\"paper_bgcolor\":\"white\",\"plot_bgcolor\":\"#E5ECF6\",\"polar\":{\"bgcolor\":\"#E5ECF6\",\"angularaxis\":{\"gridcolor\":\"white\",\"linecolor\":\"white\",\"ticks\":\"\"},\"radialaxis\":{\"gridcolor\":\"white\",\"linecolor\":\"white\",\"ticks\":\"\"}},\"ternary\":{\"bgcolor\":\"#E5ECF6\",\"aaxis\":{\"gridcolor\":\"white\",\"linecolor\":\"white\",\"ticks\":\"\"},\"baxis\":{\"gridcolor\":\"white\",\"linecolor\":\"white\",\"ticks\":\"\"},\"caxis\":{\"gridcolor\":\"white\",\"linecolor\":\"white\",\"ticks\":\"\"}},\"coloraxis\":{\"colorbar\":{\"outlinewidth\":0,\"ticks\":\"\"}},\"colorscale\":{\"sequential\":[[0.0,\"#0d0887\"],[0.1111111111111111,\"#46039f\"],[0.2222222222222222,\"#7201a8\"],[0.3333333333333333,\"#9c179e\"],[0.4444444444444444,\"#bd3786\"],[0.5555555555555556,\"#d8576b\"],[0.6666666666666666,\"#ed7953\"],[0.7777777777777778,\"#fb9f3a\"],[0.8888888888888888,\"#fdca26\"],[1.0,\"#f0f921\"]],\"sequentialminus\":[[0.0,\"#0d0887\"],[0.1111111111111111,\"#46039f\"],[0.2222222222222222,\"#7201a8\"],[0.3333333333333333,\"#9c179e\"],[0.4444444444444444,\"#bd3786\"],[0.5555555555555556,\"#d8576b\"],[0.6666666666666666,\"#ed7953\"],[0.7777777777777778,\"#fb9f3a\"],[0.8888888888888888,\"#fdca26\"],[1.0,\"#f0f921\"]],\"diverging\":[[0,\"#8e0152\"],[0.1,\"#c51b7d\"],[0.2,\"#de77ae\"],[0.3,\"#f1b6da\"],[0.4,\"#fde0ef\"],[0.5,\"#f7f7f7\"],[0.6,\"#e6f5d0\"],[0.7,\"#b8e186\"],[0.8,\"#7fbc41\"],[0.9,\"#4d9221\"],[1,\"#276419\"]]},\"xaxis\":{\"gridcolor\":\"white\",\"linecolor\":\"white\",\"ticks\":\"\",\"title\":{\"standoff\":15},\"zerolinecolor\":\"white\",\"automargin\":true,\"zerolinewidth\":2},\"yaxis\":{\"gridcolor\":\"white\",\"linecolor\":\"white\",\"ticks\":\"\",\"title\":{\"standoff\":15},\"zerolinecolor\":\"white\",\"automargin\":true,\"zerolinewidth\":2},\"scene\":{\"xaxis\":{\"backgroundcolor\":\"#E5ECF6\",\"gridcolor\":\"white\",\"linecolor\":\"white\",\"showbackground\":true,\"ticks\":\"\",\"zerolinecolor\":\"white\",\"gridwidth\":2},\"yaxis\":{\"backgroundcolor\":\"#E5ECF6\",\"gridcolor\":\"white\",\"linecolor\":\"white\",\"showbackground\":true,\"ticks\":\"\",\"zerolinecolor\":\"white\",\"gridwidth\":2},\"zaxis\":{\"backgroundcolor\":\"#E5ECF6\",\"gridcolor\":\"white\",\"linecolor\":\"white\",\"showbackground\":true,\"ticks\":\"\",\"zerolinecolor\":\"white\",\"gridwidth\":2}},\"shapedefaults\":{\"line\":{\"color\":\"#2a3f5f\"}},\"annotationdefaults\":{\"arrowcolor\":\"#2a3f5f\",\"arrowhead\":0,\"arrowwidth\":1},\"geo\":{\"bgcolor\":\"white\",\"landcolor\":\"#E5ECF6\",\"subunitcolor\":\"white\",\"showland\":true,\"showlakes\":true,\"lakecolor\":\"white\"},\"title\":{\"x\":0.05},\"mapbox\":{\"style\":\"light\"}}},\"legend\":{\"tracegroupgap\":0},\"title\":{\"text\":\"Sales Share by Category\"}},                        {\"responsive\": true}                    ).then(function(){\n",
              "                            \n",
              "var gd = document.getElementById('a65699c2-3c97-4977-90d2-73b67e8428b7');\n",
              "var x = new MutationObserver(function (mutations, observer) {{\n",
              "        var display = window.getComputedStyle(gd).display;\n",
              "        if (!display || display === 'none') {{\n",
              "            console.log([gd, 'removed!']);\n",
              "            Plotly.purge(gd);\n",
              "            observer.disconnect();\n",
              "        }}\n",
              "}});\n",
              "\n",
              "// Listen for the removal of the full notebook cells\n",
              "var notebookContainer = gd.closest('#notebook-container');\n",
              "if (notebookContainer) {{\n",
              "    x.observe(notebookContainer, {childList: true});\n",
              "}}\n",
              "\n",
              "// Listen for the clearing of the current output cell\n",
              "var outputEl = gd.closest('.output');\n",
              "if (outputEl) {{\n",
              "    x.observe(outputEl, {childList: true});\n",
              "}}\n",
              "\n",
              "                        })                };                            </script>        </div>\n",
              "</body>\n",
              "</html>"
            ]
          },
          "metadata": {}
        },
        {
          "output_type": "display_data",
          "data": {
            "text/html": [
              "<html>\n",
              "<head><meta charset=\"utf-8\" /></head>\n",
              "<body>\n",
              "    <div>            <script src=\"https://cdnjs.cloudflare.com/ajax/libs/mathjax/2.7.5/MathJax.js?config=TeX-AMS-MML_SVG\"></script><script type=\"text/javascript\">if (window.MathJax && window.MathJax.Hub && window.MathJax.Hub.Config) {window.MathJax.Hub.Config({SVG: {font: \"STIX-Web\"}});}</script>                <script type=\"text/javascript\">window.PlotlyConfig = {MathJaxConfig: 'local'};</script>\n",
              "        <script charset=\"utf-8\" src=\"https://cdn.plot.ly/plotly-2.35.2.min.js\"></script>                <div id=\"4591b688-a312-446e-93cd-2d5ae525358a\" class=\"plotly-graph-div\" style=\"height:450px; width:100%;\"></div>            <script type=\"text/javascript\">                                    window.PLOTLYENV=window.PLOTLYENV || {};                                    if (document.getElementById(\"4591b688-a312-446e-93cd-2d5ae525358a\")) {                    Plotly.newPlot(                        \"4591b688-a312-446e-93cd-2d5ae525358a\",                        [{\"alignmentgroup\":\"True\",\"boxpoints\":\"outliers\",\"hovertemplate\":\"Region=%{x}\\u003cbr\\u003eDelivery Time (days)=%{y}\\u003cextra\\u003e\\u003c\\u002fextra\\u003e\",\"legendgroup\":\"\",\"marker\":{\"color\":\"#636efa\"},\"name\":\"\",\"notched\":false,\"offsetgroup\":\"\",\"orientation\":\"v\",\"showlegend\":false,\"x\":[\"Central\",\"East\",\"West\",\"West\",\"West\",\"East\",\"East\",\"East\",\"Central\",\"East\",\"South\",\"East\",\"East\",\"Central\",\"Central\",\"Central\",\"South\",\"West\",\"South\",\"East\",\"South\",\"West\",\"West\",\"Central\",\"South\",\"Central\",\"East\",\"East\",\"South\",\"South\",\"South\",\"South\",\"East\",\"South\",\"South\",\"West\",\"South\",\"South\",\"East\",\"East\",\"South\",\"South\",\"East\",\"East\",\"Central\",\"South\",\"Central\",\"Central\",\"Central\",\"East\",\"East\",\"East\",\"Central\",\"Central\",\"East\",\"Central\",\"South\",\"Central\",\"South\",\"South\",\"South\",\"West\",\"East\",\"South\",\"West\",\"South\",\"South\",\"East\",\"West\",\"West\",\"Central\",\"West\",\"South\",\"West\",\"Central\",\"South\",\"West\",\"East\",\"East\",\"Central\",\"West\",\"West\",\"East\",\"West\",\"Central\",\"West\",\"Central\",\"Central\",\"West\",\"East\",\"West\",\"East\",\"West\",\"South\",\"East\",\"West\",\"West\",\"South\",\"West\",\"West\",\"East\",\"West\",\"Central\",\"South\",\"East\",\"South\",\"East\",\"South\",\"West\",\"West\",\"West\",\"West\",\"West\",\"West\",\"South\",\"Central\",\"Central\",\"East\",\"Central\",\"West\",\"West\",\"South\",\"South\",\"Central\",\"East\",\"West\",\"East\",\"South\",\"Central\",\"West\",\"East\",\"Central\",\"West\",\"East\",\"East\",\"East\",\"South\",\"East\",\"East\",\"Central\",\"West\",\"East\",\"West\",\"Central\",\"South\",\"East\",\"Central\",\"South\",\"South\",\"South\",\"East\",\"West\",\"South\",\"South\",\"South\",\"West\",\"East\",\"West\",\"Central\",\"West\",\"Central\",\"East\",\"West\",\"West\",\"South\",\"East\",\"South\",\"East\",\"South\",\"West\",\"East\",\"West\",\"South\",\"Central\",\"Central\",\"West\",\"South\",\"West\",\"East\",\"East\",\"Central\",\"East\",\"Central\",\"West\",\"East\",\"South\",\"East\",\"East\",\"South\",\"South\",\"East\",\"West\",\"East\",\"South\",\"West\",\"East\",\"West\",\"West\",\"South\",\"South\",\"East\",\"Central\",\"South\",\"Central\",\"Central\",\"South\",\"South\",\"Central\",\"South\",\"East\",\"East\",\"South\",\"East\",\"East\",\"East\",\"South\",\"Central\",\"East\",\"East\",\"East\",\"West\",\"South\",\"East\",\"East\",\"South\",\"West\",\"Central\",\"East\",\"Central\",\"South\",\"West\",\"Central\",\"Central\",\"East\",\"East\",\"East\",\"East\",\"Central\",\"West\",\"Central\",\"Central\",\"Central\",\"West\",\"South\",\"East\",\"West\",\"Central\",\"South\",\"East\",\"East\",\"West\",\"West\",\"Central\",\"East\",\"West\",\"East\",\"South\",\"East\",\"West\",\"Central\",\"West\",\"West\",\"East\",\"South\",\"East\",\"East\",\"Central\",\"East\",\"South\",\"West\",\"West\",\"South\",\"East\",\"West\",\"West\",\"South\",\"East\",\"East\",\"East\",\"Central\",\"East\",\"South\",\"West\",\"Central\",\"South\",\"West\",\"West\",\"South\",\"East\",\"West\",\"East\",\"West\",\"South\",\"West\",\"East\",\"East\",\"East\",\"East\",\"East\",\"Central\",\"West\",\"South\",\"East\",\"South\",\"South\",\"South\",\"East\",\"East\",\"West\",\"South\",\"Central\",\"East\",\"South\",\"East\",\"South\",\"West\",\"East\",\"South\",\"Central\",\"Central\",\"West\",\"South\",\"South\",\"East\",\"Central\",\"South\",\"Central\",\"South\",\"South\",\"South\",\"West\",\"West\",\"West\",\"East\",\"West\",\"South\",\"Central\",\"East\",\"South\",\"West\",\"Central\",\"Central\",\"South\",\"South\",\"South\",\"Central\",\"Central\",\"West\",\"Central\",\"South\",\"West\",\"Central\",\"South\",\"Central\",\"West\",\"West\",\"West\",\"Central\",\"South\",\"East\",\"East\",\"Central\",\"West\",\"East\",\"South\",\"West\",\"West\",\"West\",\"Central\",\"Central\",\"Central\",\"East\",\"Central\",\"East\",\"East\",\"West\",\"East\",\"East\",\"East\",\"South\",\"Central\",\"East\",\"Central\",\"Central\",\"Central\",\"Central\",\"Central\",\"Central\",\"West\",\"South\",\"East\",\"West\",\"East\",\"South\",\"West\",\"West\",\"Central\",\"Central\",\"South\",\"Central\",\"South\",\"West\",\"South\",\"West\",\"South\",\"East\",\"West\",\"West\",\"West\",\"South\",\"Central\",\"West\",\"Central\",\"Central\",\"Central\",\"East\",\"South\",\"Central\",\"West\",\"East\",\"East\",\"Central\",\"South\",\"East\",\"South\",\"South\",\"South\",\"Central\",\"Central\",\"Central\",\"West\",\"South\",\"West\",\"South\",\"Central\",\"Central\",\"West\",\"Central\",\"East\",\"South\",\"East\",\"East\",\"South\",\"South\",\"Central\",\"South\",\"West\",\"Central\",\"East\",\"West\",\"East\",\"South\",\"South\",\"South\",\"South\",\"Central\",\"South\",\"Central\",\"Central\",\"South\",\"East\",\"South\",\"South\",\"South\",\"East\",\"West\",\"West\",\"South\",\"Central\",\"South\",\"South\",\"South\",\"East\",\"East\",\"East\",\"South\",\"South\",\"West\",\"Central\",\"East\",\"Central\",\"West\",\"Central\",\"South\",\"West\",\"West\",\"East\",\"South\",\"West\",\"South\",\"South\",\"West\",\"West\",\"East\",\"East\",\"West\",\"Central\",\"East\",\"East\",\"South\",\"East\",\"West\",\"West\",\"South\",\"West\",\"East\",\"East\",\"West\",\"Central\",\"East\",\"West\",\"West\",\"West\",\"West\",\"East\",\"East\",\"East\",\"Central\",\"Central\",\"East\",\"Central\",\"South\",\"South\",\"South\",\"Central\",\"West\",\"East\",\"Central\",\"Central\",\"Central\",\"West\",\"South\",\"West\",\"East\",\"West\",\"South\",\"East\",\"East\",\"East\",\"West\",\"East\",\"Central\",\"South\",\"East\",\"East\",\"West\",\"Central\",\"East\",\"Central\",\"East\",\"West\",\"South\",\"West\",\"South\",\"Central\",\"West\",\"East\",\"West\",\"Central\",\"South\",\"South\",\"South\",\"East\",\"East\",\"East\",\"South\",\"East\",\"Central\",\"Central\",\"South\",\"West\",\"South\",\"Central\",\"West\",\"South\",\"East\",\"Central\",\"West\",\"West\",\"Central\",\"South\",\"South\",\"South\",\"West\",\"West\",\"South\",\"West\",\"West\",\"South\",\"South\",\"East\",\"East\",\"West\",\"West\",\"East\",\"West\",\"West\",\"South\",\"West\",\"East\",\"West\",\"West\",\"West\",\"Central\",\"West\",\"South\",\"South\",\"Central\",\"West\",\"South\",\"Central\",\"West\",\"East\",\"West\",\"Central\",\"West\",\"Central\",\"Central\",\"Central\",\"South\",\"Central\",\"South\",\"West\",\"South\",\"South\",\"South\",\"South\",\"East\",\"East\",\"Central\",\"Central\",\"West\",\"West\",\"South\",\"Central\",\"East\",\"East\",\"East\",\"Central\",\"East\",\"South\",\"East\",\"West\",\"South\",\"West\",\"Central\",\"East\",\"East\",\"East\",\"South\",\"South\",\"Central\",\"West\",\"Central\",\"South\",\"East\",\"South\",\"South\",\"East\",\"Central\",\"South\",\"West\",\"East\",\"Central\",\"Central\",\"South\",\"East\",\"West\",\"South\",\"Central\",\"East\",\"South\",\"Central\",\"South\",\"Central\",\"West\",\"Central\",\"West\",\"South\",\"South\",\"South\",\"Central\",\"West\",\"South\",\"East\",\"Central\",\"South\",\"South\",\"East\",\"Central\",\"South\",\"West\",\"East\",\"East\",\"South\",\"South\",\"South\",\"East\",\"Central\",\"Central\",\"East\",\"East\",\"Central\",\"Central\",\"West\",\"East\",\"East\",\"East\",\"West\",\"Central\",\"West\",\"Central\",\"Central\",\"West\",\"South\",\"East\",\"South\",\"West\",\"South\",\"Central\",\"East\",\"West\",\"South\",\"West\",\"East\",\"South\",\"South\",\"East\",\"West\",\"West\",\"East\",\"South\",\"Central\",\"East\",\"West\",\"East\",\"West\",\"Central\",\"East\",\"South\",\"East\",\"West\",\"Central\",\"West\",\"South\",\"Central\",\"East\",\"West\",\"South\",\"South\",\"Central\",\"Central\",\"Central\",\"West\",\"East\",\"East\",\"South\",\"Central\",\"Central\",\"West\",\"East\",\"Central\",\"South\",\"South\",\"West\",\"West\",\"South\",\"Central\",\"Central\",\"East\",\"West\",\"East\",\"South\",\"East\",\"South\",\"South\",\"West\",\"East\",\"West\",\"Central\",\"Central\",\"West\",\"West\",\"West\",\"West\",\"Central\",\"South\",\"Central\",\"Central\",\"West\",\"Central\",\"West\",\"South\",\"South\",\"East\",\"South\",\"West\",\"West\",\"Central\",\"West\",\"East\",\"South\",\"South\",\"South\",\"West\",\"Central\",\"South\",\"Central\",\"West\",\"Central\",\"East\",\"West\",\"West\",\"West\",\"West\",\"East\",\"Central\",\"South\",\"South\",\"South\",\"Central\",\"South\",\"East\",\"South\",\"Central\",\"East\",\"Central\",\"Central\",\"West\",\"Central\",\"West\",\"West\",\"Central\",\"Central\",\"Central\",\"East\",\"Central\",\"South\",\"South\",\"South\",\"East\",\"South\",\"West\",\"West\",\"Central\",\"East\",\"Central\",\"West\",\"East\",\"South\",\"West\",\"East\",\"West\",\"West\",\"Central\",\"Central\",\"South\",\"South\",\"East\",\"Central\",\"South\",\"Central\",\"West\",\"East\",\"West\",\"East\",\"South\",\"West\",\"East\",\"Central\",\"West\",\"South\",\"West\",\"Central\",\"West\",\"West\",\"West\",\"West\",\"East\",\"South\",\"Central\",\"East\",\"West\",\"East\",\"South\",\"Central\",\"East\",\"West\",\"South\",\"Central\",\"East\",\"East\",\"Central\",\"East\",\"West\",\"East\",\"Central\",\"Central\",\"South\",\"South\",\"South\",\"West\",\"West\",\"South\",\"Central\",\"East\",\"West\",\"South\",\"West\",\"West\",\"West\",\"East\",\"Central\",\"South\",\"East\",\"South\",\"South\",\"Central\",\"West\",\"West\",\"Central\",\"South\",\"Central\",\"Central\",\"East\",\"Central\",\"South\",\"East\",\"West\",\"South\",\"East\",\"Central\",\"West\",\"East\",\"West\",\"East\",\"East\",\"East\",\"West\",\"West\",\"East\",\"Central\",\"East\",\"Central\",\"Central\",\"Central\",\"Central\",\"Central\",\"South\",\"Central\",\"South\",\"East\",\"West\",\"Central\",\"East\",\"West\",\"West\",\"Central\",\"East\",\"West\",\"West\",\"South\",\"East\",\"South\",\"Central\",\"East\",\"South\",\"Central\",\"Central\",\"Central\",\"Central\",\"South\",\"West\",\"West\",\"East\",\"Central\",\"East\",\"Central\",\"East\",\"South\",\"Central\",\"West\",\"East\",\"Central\",\"Central\",\"West\",\"East\",\"West\",\"Central\",\"South\",\"West\",\"Central\",\"Central\",\"South\",\"East\",\"South\",\"West\",\"Central\",\"South\",\"East\",\"West\",\"West\",\"East\",\"South\",\"East\",\"Central\",\"East\",\"West\",\"West\",\"South\",\"Central\",\"South\",\"South\",\"East\",\"East\",\"South\",\"Central\",\"Central\",\"East\",\"Central\",\"West\",\"West\",\"East\",\"South\",\"East\",\"South\",\"West\",\"East\",\"East\",\"East\",\"Central\",\"East\",\"West\",\"West\",\"West\",\"South\",\"South\",\"South\",\"South\",\"West\",\"Central\",\"West\",\"East\",\"Central\",\"West\",\"West\",\"East\",\"South\",\"East\",\"South\",\"East\",\"Central\",\"East\",\"Central\",\"South\",\"West\",\"West\",\"South\",\"South\",\"Central\",\"East\",\"South\",\"South\",\"East\",\"East\",\"South\",\"West\",\"West\",\"West\",\"Central\",\"South\",\"South\",\"South\",\"East\",\"West\",\"South\",\"Central\",\"East\",\"Central\",\"West\",\"South\",\"West\",\"Central\",\"West\",\"South\",\"East\",\"South\",\"East\",\"East\",\"South\",\"West\",\"Central\",\"West\",\"Central\",\"East\",\"South\",\"West\",\"West\",\"Central\",\"West\",\"East\",\"East\",\"South\",\"South\",\"South\",\"East\",\"Central\",\"Central\",\"South\",\"Central\",\"East\",\"Central\",\"West\",\"East\",\"South\",\"Central\",\"West\",\"West\",\"East\",\"East\",\"Central\",\"West\",\"Central\",\"West\",\"South\",\"East\",\"East\",\"West\",\"Central\",\"East\",\"West\",\"South\",\"East\",\"East\",\"East\",\"East\",\"Central\",\"West\",\"West\",\"West\",\"East\",\"South\",\"West\",\"East\",\"East\",\"Central\",\"West\",\"South\",\"East\",\"Central\",\"West\",\"East\",\"West\",\"West\",\"South\",\"South\",\"East\",\"East\",\"East\",\"West\",\"Central\",\"South\",\"Central\",\"East\",\"East\",\"South\",\"Central\",\"South\",\"West\",\"South\",\"Central\",\"Central\",\"Central\",\"West\",\"West\",\"West\",\"Central\",\"South\",\"South\",\"East\",\"South\",\"South\",\"West\",\"West\",\"South\",\"West\",\"Central\",\"South\",\"South\",\"South\",\"West\",\"Central\",\"East\",\"East\",\"West\",\"South\",\"West\",\"Central\",\"Central\",\"East\",\"East\",\"South\",\"West\",\"West\",\"Central\",\"East\",\"West\",\"West\",\"South\",\"Central\",\"West\",\"East\",\"West\",\"West\",\"South\",\"South\",\"Central\",\"West\",\"South\",\"South\",\"South\",\"East\",\"West\",\"West\",\"East\",\"West\",\"Central\",\"South\",\"West\",\"Central\",\"East\",\"Central\",\"East\",\"South\",\"West\",\"South\",\"Central\",\"Central\",\"East\",\"Central\",\"South\",\"East\",\"West\",\"South\",\"Central\",\"East\",\"South\",\"West\",\"Central\",\"West\",\"West\",\"Central\",\"West\",\"East\",\"Central\",\"Central\",\"South\",\"East\",\"West\",\"Central\",\"South\",\"Central\",\"South\",\"South\",\"West\",\"East\",\"East\",\"East\",\"South\",\"Central\",\"East\",\"West\",\"West\",\"Central\",\"East\",\"Central\",\"East\",\"East\",\"West\",\"South\",\"West\",\"Central\",\"West\",\"East\",\"West\",\"West\",\"West\",\"South\",\"South\",\"Central\",\"West\",\"South\",\"West\",\"East\",\"West\",\"West\",\"West\",\"East\",\"East\",\"West\",\"West\",\"Central\",\"East\",\"South\",\"Central\",\"South\",\"East\",\"Central\",\"West\",\"South\",\"East\",\"Central\",\"Central\",\"East\",\"South\",\"East\",\"South\",\"Central\",\"South\",\"Central\",\"West\",\"East\",\"West\",\"West\",\"South\",\"East\",\"South\",\"East\",\"East\",\"South\",\"West\",\"East\",\"East\",\"Central\",\"West\",\"South\",\"South\",\"East\",\"Central\",\"East\",\"South\",\"East\",\"West\",\"East\",\"South\",\"South\",\"West\",\"East\",\"East\",\"South\",\"South\",\"West\",\"East\",\"East\",\"West\",\"Central\",\"East\",\"South\",\"South\",\"Central\",\"East\",\"East\",\"West\",\"East\",\"West\",\"West\",\"Central\",\"Central\",\"West\",\"East\",\"Central\",\"West\",\"East\",\"Central\",\"West\",\"West\",\"Central\",\"West\",\"East\",\"South\",\"East\",\"East\",\"West\",\"South\",\"South\",\"East\",\"South\",\"Central\",\"Central\",\"East\",\"East\",\"East\",\"Central\",\"South\",\"Central\",\"South\",\"West\",\"East\",\"East\",\"East\",\"East\",\"West\",\"Central\",\"Central\",\"Central\",\"South\",\"Central\",\"East\",\"Central\",\"Central\",\"West\",\"East\",\"South\",\"Central\",\"East\",\"West\",\"Central\",\"East\",\"South\",\"East\",\"South\",\"West\",\"East\",\"South\",\"Central\",\"East\",\"South\",\"East\",\"West\",\"East\",\"Central\",\"East\",\"South\",\"South\",\"South\",\"West\",\"West\",\"East\",\"East\",\"Central\",\"East\",\"West\",\"East\",\"East\",\"Central\",\"West\",\"East\",\"West\",\"West\",\"East\",\"Central\",\"South\",\"East\",\"West\",\"East\",\"South\",\"East\",\"West\",\"East\",\"West\",\"Central\",\"South\",\"East\",\"Central\",\"South\",\"South\",\"East\",\"Central\",\"West\",\"East\",\"East\",\"East\",\"East\",\"South\",\"East\",\"West\",\"Central\",\"South\",\"East\",\"West\",\"West\",\"Central\",\"South\",\"West\",\"South\",\"West\",\"West\",\"South\",\"West\",\"South\",\"South\",\"East\",\"South\",\"South\",\"East\",\"West\",\"Central\",\"East\",\"South\",\"East\",\"East\",\"West\",\"East\",\"East\",\"Central\",\"West\",\"South\",\"West\",\"South\",\"West\",\"South\",\"East\",\"East\",\"Central\",\"Central\",\"West\",\"East\",\"West\",\"West\",\"East\",\"Central\",\"West\",\"West\",\"West\",\"South\",\"West\",\"West\",\"Central\",\"East\",\"East\",\"South\",\"West\",\"Central\",\"East\",\"Central\",\"Central\",\"West\",\"Central\",\"West\",\"Central\",\"Central\",\"East\",\"West\",\"West\",\"Central\",\"East\",\"Central\",\"South\",\"South\",\"East\",\"Central\",\"West\",\"Central\",\"West\",\"South\",\"Central\",\"Central\",\"Central\",\"Central\",\"South\",\"South\",\"East\",\"East\",\"Central\",\"South\",\"West\",\"South\",\"South\",\"South\",\"West\",\"South\",\"Central\",\"Central\",\"Central\",\"West\",\"South\",\"East\",\"East\",\"West\",\"Central\",\"East\",\"South\",\"Central\",\"South\",\"South\",\"West\",\"South\",\"South\",\"Central\",\"West\",\"South\",\"Central\",\"South\",\"Central\",\"West\",\"Central\",\"Central\",\"East\",\"East\",\"West\",\"East\",\"South\",\"West\",\"West\",\"East\",\"South\",\"East\",\"Central\",\"South\",\"Central\",\"West\",\"West\",\"West\",\"South\",\"Central\",\"South\",\"Central\",\"East\",\"South\",\"East\",\"South\",\"West\",\"Central\",\"East\",\"West\",\"East\",\"West\",\"Central\",\"East\",\"Central\",\"Central\",\"East\",\"South\",\"South\",\"East\",\"South\",\"Central\",\"South\",\"Central\",\"Central\",\"West\",\"East\",\"East\",\"East\",\"Central\",\"West\",\"Central\",\"West\",\"West\",\"East\",\"East\",\"West\",\"Central\",\"East\",\"South\",\"East\",\"Central\",\"East\",\"West\",\"Central\",\"South\",\"East\",\"West\",\"Central\",\"Central\",\"South\",\"West\",\"West\",\"South\",\"Central\",\"Central\",\"South\",\"West\",\"South\",\"South\",\"South\",\"East\",\"South\",\"West\",\"East\",\"South\",\"Central\",\"Central\",\"Central\",\"South\",\"East\",\"East\",\"West\",\"Central\",\"East\",\"West\",\"East\",\"West\",\"Central\",\"West\",\"West\",\"Central\",\"West\",\"Central\",\"Central\",\"South\",\"South\",\"Central\",\"West\",\"South\",\"South\",\"East\",\"Central\",\"Central\",\"South\",\"West\",\"East\",\"South\",\"South\",\"Central\",\"South\",\"West\",\"West\",\"West\",\"West\",\"Central\",\"East\",\"South\",\"South\",\"East\",\"Central\",\"Central\",\"Central\",\"Central\",\"East\",\"Central\",\"South\",\"West\",\"East\",\"East\",\"East\",\"West\",\"South\",\"East\",\"West\",\"South\",\"East\",\"West\",\"East\",\"West\",\"West\",\"South\",\"West\",\"South\",\"South\",\"East\",\"East\",\"West\",\"West\",\"South\",\"West\",\"South\",\"Central\",\"East\",\"South\",\"West\",\"South\",\"South\",\"East\",\"Central\",\"South\",\"Central\",\"Central\",\"East\",\"East\",\"South\",\"South\",\"South\",\"South\",\"West\",\"Central\",\"South\",\"Central\",\"West\",\"East\",\"East\",\"East\",\"Central\",\"South\",\"South\",\"Central\",\"South\",\"South\",\"East\",\"Central\",\"Central\",\"East\",\"West\",\"West\",\"Central\",\"Central\",\"East\",\"East\",\"Central\",\"South\",\"South\",\"Central\",\"East\",\"West\",\"South\",\"Central\",\"West\",\"South\",\"West\",\"East\",\"Central\",\"Central\",\"Central\",\"East\",\"Central\",\"West\",\"South\",\"Central\",\"Central\",\"East\",\"Central\",\"Central\",\"Central\",\"West\",\"East\",\"Central\",\"West\",\"West\",\"West\",\"South\",\"South\",\"West\",\"East\",\"West\",\"South\",\"Central\",\"Central\",\"East\",\"South\",\"Central\",\"Central\",\"East\",\"East\",\"South\",\"East\",\"South\",\"West\",\"South\",\"West\",\"East\",\"West\",\"West\",\"East\",\"Central\",\"South\",\"South\",\"West\",\"Central\",\"West\",\"South\",\"Central\",\"West\",\"West\",\"East\",\"West\",\"East\",\"East\",\"East\",\"Central\",\"East\",\"South\",\"West\",\"Central\",\"East\",\"West\",\"East\",\"South\",\"South\",\"South\",\"East\",\"East\",\"Central\",\"Central\",\"South\",\"South\",\"West\",\"West\",\"South\",\"West\",\"Central\",\"East\",\"West\",\"East\",\"West\",\"East\",\"East\",\"East\",\"West\",\"East\",\"East\",\"East\",\"West\",\"South\",\"Central\",\"Central\",\"South\",\"South\",\"East\",\"Central\",\"East\",\"Central\",\"South\",\"West\",\"South\",\"South\",\"East\",\"West\",\"East\",\"West\",\"East\",\"West\",\"West\",\"West\",\"Central\",\"Central\",\"Central\",\"West\",\"East\",\"South\",\"South\",\"West\",\"Central\",\"South\",\"Central\",\"Central\",\"Central\",\"South\",\"East\",\"West\",\"South\",\"East\",\"East\",\"Central\",\"West\",\"East\",\"East\",\"East\",\"South\",\"Central\",\"Central\",\"Central\",\"Central\",\"South\",\"East\",\"East\",\"West\",\"South\",\"South\",\"South\",\"South\",\"East\",\"Central\",\"Central\",\"West\",\"East\",\"Central\",\"Central\",\"South\",\"East\",\"Central\",\"West\",\"West\",\"West\",\"East\",\"South\",\"South\",\"Central\",\"South\",\"East\",\"West\",\"West\",\"South\",\"Central\",\"Central\",\"East\",\"East\",\"South\",\"East\",\"Central\",\"Central\",\"East\",\"East\",\"West\",\"South\",\"West\",\"East\",\"South\",\"Central\",\"East\",\"Central\",\"South\",\"Central\",\"South\",\"Central\",\"West\",\"South\",\"South\",\"Central\",\"East\",\"West\",\"South\",\"East\",\"Central\",\"Central\",\"Central\",\"Central\",\"Central\",\"East\",\"Central\",\"West\",\"East\",\"East\",\"East\",\"Central\",\"South\",\"East\",\"East\",\"South\",\"South\",\"Central\",\"West\",\"Central\",\"East\",\"Central\",\"East\",\"South\",\"South\",\"Central\",\"East\",\"Central\",\"West\",\"South\",\"South\",\"Central\",\"South\",\"West\",\"East\",\"East\",\"West\",\"Central\",\"Central\",\"West\",\"Central\",\"West\",\"Central\",\"Central\",\"Central\",\"West\",\"Central\",\"West\",\"West\",\"Central\",\"East\",\"East\",\"West\",\"East\",\"West\",\"South\",\"South\",\"West\",\"South\",\"East\",\"West\",\"West\",\"West\",\"Central\",\"South\",\"West\",\"South\",\"East\",\"Central\",\"South\",\"West\",\"South\",\"South\",\"Central\",\"East\",\"West\",\"Central\",\"West\",\"South\",\"South\",\"Central\",\"West\",\"West\",\"Central\",\"West\",\"South\",\"South\",\"West\",\"West\",\"West\",\"South\",\"East\",\"East\",\"South\",\"South\",\"Central\",\"East\",\"South\",\"West\",\"Central\",\"South\",\"East\",\"East\",\"South\",\"Central\",\"Central\",\"Central\",\"East\",\"Central\",\"South\",\"East\",\"West\",\"East\",\"Central\",\"Central\",\"Central\",\"West\",\"South\",\"West\",\"East\",\"Central\",\"South\",\"South\",\"East\",\"East\",\"Central\",\"Central\",\"East\",\"West\",\"Central\",\"West\",\"South\",\"East\",\"East\",\"West\",\"East\",\"East\",\"South\",\"Central\",\"Central\",\"Central\",\"Central\",\"Central\",\"West\",\"East\",\"East\",\"South\",\"East\",\"South\",\"West\",\"Central\",\"West\",\"West\",\"Central\",\"East\",\"West\",\"Central\",\"Central\",\"West\",\"South\",\"West\",\"South\",\"South\",\"East\",\"West\",\"Central\",\"South\",\"West\",\"Central\",\"East\",\"East\",\"South\",\"East\",\"West\",\"South\",\"East\",\"South\",\"Central\",\"West\",\"East\",\"Central\",\"South\",\"East\",\"Central\",\"Central\",\"South\",\"East\",\"East\",\"Central\",\"South\",\"Central\",\"East\",\"South\",\"West\",\"Central\",\"South\",\"West\",\"East\",\"Central\",\"South\",\"East\",\"East\",\"West\",\"Central\",\"Central\",\"East\",\"West\",\"West\",\"South\",\"Central\",\"South\",\"West\",\"Central\",\"East\",\"East\",\"East\",\"West\",\"Central\",\"West\",\"Central\",\"East\",\"South\",\"West\",\"East\",\"South\",\"South\",\"East\",\"Central\",\"West\",\"Central\",\"East\",\"West\",\"East\",\"East\",\"Central\",\"East\",\"Central\",\"South\",\"Central\",\"South\",\"West\",\"East\",\"South\",\"South\",\"Central\",\"East\",\"West\",\"West\",\"Central\",\"East\",\"East\",\"East\",\"South\",\"East\",\"West\",\"Central\",\"West\",\"South\",\"Central\",\"East\",\"East\",\"Central\",\"West\",\"Central\",\"South\",\"West\",\"Central\",\"East\",\"South\",\"East\",\"West\",\"East\",\"Central\",\"East\",\"South\",\"West\",\"East\",\"Central\",\"East\",\"West\",\"West\",\"West\",\"West\",\"East\",\"South\",\"South\",\"East\",\"Central\",\"East\",\"West\",\"West\",\"West\",\"West\",\"West\",\"West\",\"Central\",\"South\",\"West\",\"East\",\"Central\",\"Central\",\"Central\",\"East\",\"East\",\"West\",\"South\",\"Central\",\"Central\",\"Central\",\"East\",\"East\",\"South\",\"East\",\"South\",\"West\",\"West\",\"South\",\"South\",\"West\",\"Central\",\"Central\",\"South\",\"West\",\"East\",\"West\",\"South\",\"West\",\"Central\",\"Central\",\"East\",\"East\",\"West\",\"West\",\"East\",\"Central\",\"South\",\"West\",\"East\",\"West\",\"East\",\"Central\",\"East\",\"Central\",\"South\",\"Central\",\"Central\",\"West\",\"Central\",\"West\",\"South\",\"Central\",\"South\",\"Central\",\"South\",\"Central\",\"West\",\"East\",\"Central\",\"South\",\"South\",\"South\",\"South\",\"South\",\"West\",\"East\",\"South\",\"South\",\"East\",\"Central\",\"South\",\"Central\",\"West\",\"East\",\"East\",\"West\",\"East\",\"West\",\"Central\",\"West\",\"South\",\"South\",\"West\",\"Central\",\"East\",\"West\",\"South\",\"Central\",\"South\",\"Central\",\"South\",\"East\",\"East\",\"Central\",\"West\",\"Central\",\"East\",\"Central\",\"East\",\"South\",\"West\",\"West\",\"East\",\"West\",\"West\",\"East\",\"East\",\"West\",\"Central\",\"South\",\"South\",\"West\",\"South\",\"West\",\"West\",\"South\",\"East\",\"West\",\"West\",\"East\",\"Central\",\"West\",\"Central\",\"East\",\"Central\",\"West\",\"East\",\"West\",\"West\",\"West\",\"East\",\"East\",\"Central\",\"East\",\"Central\",\"East\",\"East\",\"West\",\"West\",\"West\",\"South\",\"Central\",\"East\",\"South\",\"South\",\"South\",\"Central\",\"West\",\"South\",\"Central\",\"South\",\"West\",\"Central\",\"East\",\"West\",\"Central\",\"Central\",\"South\",\"South\",\"East\",\"West\",\"East\",\"South\",\"Central\",\"West\",\"South\",\"East\",\"West\",\"South\",\"West\",\"Central\",\"South\",\"West\",\"Central\",\"West\",\"East\",\"East\",\"West\",\"East\",\"East\",\"West\",\"West\",\"South\",\"South\",\"South\",\"South\",\"East\",\"South\",\"East\",\"East\",\"Central\",\"West\",\"West\",\"South\",\"South\",\"Central\",\"East\",\"South\",\"Central\",\"South\",\"East\",\"Central\",\"East\",\"Central\",\"Central\",\"West\",\"West\",\"South\",\"West\",\"East\",\"East\",\"East\",\"West\",\"East\",\"South\",\"Central\",\"South\",\"South\",\"Central\",\"Central\",\"West\",\"East\",\"South\",\"East\",\"East\",\"West\",\"West\",\"West\",\"West\",\"Central\",\"South\",\"West\",\"West\",\"East\",\"South\",\"East\",\"Central\",\"East\",\"Central\",\"South\",\"Central\",\"West\",\"South\",\"Central\",\"Central\",\"Central\",\"East\",\"West\",\"West\",\"East\",\"Central\",\"Central\",\"Central\",\"East\",\"East\",\"West\",\"West\",\"South\",\"West\",\"West\",\"West\",\"West\",\"Central\",\"Central\",\"East\",\"East\",\"West\",\"South\",\"West\",\"East\",\"Central\",\"Central\",\"South\",\"Central\",\"South\",\"East\",\"Central\",\"Central\",\"West\",\"East\",\"East\",\"Central\",\"Central\",\"East\",\"West\",\"South\",\"East\",\"Central\",\"East\",\"South\",\"Central\",\"Central\",\"Central\",\"East\",\"West\",\"Central\",\"West\",\"Central\",\"Central\",\"Central\",\"South\",\"West\",\"West\",\"East\",\"West\",\"South\",\"East\",\"East\",\"West\",\"Central\",\"East\",\"East\",\"South\",\"South\",\"West\",\"Central\",\"South\",\"South\",\"Central\",\"West\",\"Central\",\"West\",\"East\",\"Central\",\"West\",\"South\",\"East\",\"Central\",\"West\",\"South\",\"Central\",\"West\",\"South\",\"West\",\"South\",\"East\",\"West\",\"South\",\"Central\",\"Central\",\"West\",\"Central\",\"East\",\"Central\",\"West\",\"West\",\"South\",\"East\",\"South\",\"Central\",\"East\",\"South\",\"West\",\"Central\",\"Central\",\"West\",\"East\",\"Central\",\"South\",\"Central\",\"South\",\"East\",\"East\",\"East\",\"South\",\"East\",\"West\",\"East\",\"South\",\"Central\",\"East\",\"South\",\"Central\",\"West\",\"East\",\"South\",\"South\",\"West\",\"South\",\"Central\",\"Central\",\"East\",\"South\",\"East\",\"Central\",\"Central\",\"East\",\"Central\",\"South\",\"Central\",\"Central\",\"South\",\"West\",\"West\",\"West\",\"South\",\"West\",\"West\",\"South\",\"South\",\"East\",\"South\",\"South\",\"East\",\"South\",\"South\",\"South\",\"West\",\"Central\",\"South\",\"Central\",\"West\",\"East\",\"Central\",\"Central\",\"East\",\"West\",\"Central\",\"East\",\"West\",\"West\",\"West\",\"West\",\"West\",\"West\",\"South\",\"East\",\"East\",\"West\",\"South\",\"West\",\"South\",\"South\",\"West\",\"Central\",\"South\",\"South\",\"East\",\"South\",\"Central\",\"South\",\"East\",\"East\",\"East\",\"West\",\"South\",\"West\",\"Central\",\"East\",\"East\",\"East\",\"West\",\"West\",\"Central\",\"West\",\"Central\",\"West\",\"East\",\"West\",\"West\",\"East\",\"South\",\"West\",\"West\",\"East\",\"East\",\"East\",\"South\",\"South\",\"Central\",\"South\",\"West\",\"Central\",\"Central\",\"South\",\"West\",\"Central\",\"East\",\"South\",\"West\",\"West\",\"West\",\"South\",\"West\",\"Central\",\"South\",\"East\",\"West\",\"Central\",\"West\",\"East\",\"South\",\"East\",\"East\",\"East\",\"West\",\"West\",\"South\",\"East\",\"East\",\"Central\",\"West\",\"South\",\"Central\",\"South\",\"Central\",\"South\",\"Central\",\"Central\",\"Central\",\"West\",\"West\",\"East\",\"South\",\"East\",\"South\",\"East\",\"East\",\"Central\",\"West\",\"Central\",\"East\",\"West\",\"West\",\"South\",\"South\",\"East\",\"South\",\"Central\",\"East\",\"South\",\"Central\",\"South\",\"Central\",\"South\",\"East\",\"Central\",\"Central\",\"South\",\"South\",\"West\",\"South\",\"Central\",\"East\",\"South\",\"West\",\"East\",\"West\",\"Central\",\"Central\",\"Central\",\"West\",\"Central\",\"South\",\"South\",\"West\",\"South\",\"Central\",\"West\",\"East\",\"Central\",\"South\",\"South\",\"West\",\"South\",\"West\",\"South\",\"East\",\"Central\",\"Central\",\"South\",\"East\",\"West\",\"Central\",\"West\",\"East\",\"East\",\"West\",\"East\",\"South\",\"West\",\"West\",\"West\",\"East\",\"East\",\"West\",\"East\",\"Central\",\"West\",\"East\",\"South\",\"East\",\"Central\",\"East\",\"East\",\"Central\",\"South\",\"West\",\"West\",\"Central\",\"South\",\"Central\",\"East\",\"Central\",\"South\",\"West\",\"Central\",\"East\",\"East\",\"South\",\"East\",\"East\",\"East\",\"East\",\"South\",\"Central\",\"East\",\"East\",\"East\",\"South\",\"West\",\"East\",\"Central\",\"South\",\"East\",\"South\",\"East\",\"Central\",\"East\",\"Central\",\"South\",\"East\",\"South\",\"West\",\"East\",\"West\",\"West\",\"East\",\"South\",\"South\",\"West\",\"Central\",\"East\",\"South\",\"South\",\"East\",\"West\",\"West\",\"East\",\"Central\",\"Central\",\"Central\",\"South\",\"Central\",\"East\",\"South\",\"East\",\"South\",\"East\",\"East\",\"West\",\"West\",\"South\",\"East\",\"South\",\"West\",\"East\",\"East\",\"West\",\"South\",\"South\",\"Central\",\"South\",\"West\",\"South\",\"Central\",\"Central\",\"South\",\"East\",\"South\",\"Central\",\"East\",\"West\",\"Central\",\"East\",\"East\",\"East\",\"Central\",\"South\"],\"x0\":\" \",\"xaxis\":\"x\",\"y\":[5,7,2,1,5,5,3,3,1,3,3,3,5,3,3,5,3,3,3,3,5,7,3,3,5,5,2,3,2,1,7,3,5,3,7,2,5,3,3,7,3,3,7,2,5,3,2,3,3,1,3,3,3,3,3,5,3,3,3,2,3,2,2,2,2,7,5,3,3,3,2,3,3,3,3,3,1,7,2,5,3,3,5,2,7,5,2,7,7,7,5,3,5,5,3,3,3,1,5,2,2,3,3,3,2,3,3,1,3,5,2,5,3,3,2,2,3,5,1,7,5,5,3,3,3,1,7,3,2,1,3,1,3,2,3,7,5,5,7,5,3,2,3,2,3,3,1,2,3,1,5,3,2,5,3,7,2,2,3,5,2,5,5,5,3,5,2,2,3,2,5,3,3,5,3,3,3,2,2,2,3,3,5,7,5,1,5,3,3,3,3,3,3,3,3,3,7,5,5,2,3,1,3,3,3,3,5,3,2,3,3,5,5,2,3,2,3,3,3,5,3,5,3,1,3,2,7,7,3,1,3,5,3,5,3,3,7,3,5,3,5,3,3,5,3,2,1,3,5,7,2,1,3,2,3,3,3,5,3,3,5,3,2,2,2,5,2,3,7,5,3,1,3,7,3,2,2,3,2,5,5,1,3,3,7,3,3,3,3,3,7,7,2,3,1,5,5,5,3,7,3,2,5,5,3,7,7,2,5,3,3,3,5,3,5,3,3,7,3,7,3,3,5,5,3,5,5,2,3,2,2,2,7,3,5,3,3,3,3,7,2,5,2,2,5,2,3,3,3,3,2,3,2,3,3,3,5,2,3,5,5,3,3,3,3,2,3,2,3,3,3,7,2,3,2,3,5,3,3,3,3,3,3,5,3,7,5,3,3,3,5,7,5,5,2,3,3,2,3,2,5,3,3,2,5,3,5,5,3,3,1,7,3,2,3,5,3,5,3,3,3,3,2,3,2,3,7,3,1,5,3,3,3,2,5,3,1,7,5,3,7,5,3,5,2,3,5,7,2,2,5,5,1,3,1,7,2,3,3,5,3,2,7,5,3,3,2,3,3,3,3,5,2,3,7,3,7,3,3,3,3,3,1,2,2,3,3,3,7,3,3,3,1,3,3,7,3,7,3,3,5,7,3,5,3,3,3,3,5,5,3,2,2,2,5,3,3,3,3,3,3,5,7,5,1,3,3,7,5,1,3,3,7,3,5,5,3,7,3,2,2,2,7,2,5,3,3,5,5,3,3,3,5,3,3,2,3,3,3,3,3,3,3,7,3,2,3,3,3,3,3,5,7,5,2,2,5,1,5,3,5,2,1,5,3,2,3,5,3,3,3,3,3,7,1,3,3,3,3,3,5,5,3,3,7,3,3,2,3,2,3,2,3,5,3,3,7,3,5,3,5,5,2,3,5,5,3,5,3,7,5,3,3,7,7,3,5,5,3,2,3,7,3,2,2,7,3,5,2,5,3,5,5,7,3,3,3,5,3,5,3,3,3,7,5,5,3,3,5,3,5,3,3,2,2,2,1,3,5,2,5,5,2,3,2,5,3,3,5,3,3,3,3,3,2,2,2,5,3,3,3,5,7,5,7,5,2,3,7,3,3,3,3,3,1,3,5,3,5,3,2,3,3,2,3,2,3,3,3,3,7,3,3,5,2,5,5,3,3,3,3,7,2,3,3,3,3,3,7,5,3,5,5,3,5,7,3,1,3,3,5,5,5,3,3,3,5,3,3,3,2,2,2,3,3,3,2,2,7,3,2,3,2,3,5,3,3,3,3,3,3,5,5,3,3,3,3,3,3,2,3,2,1,3,7,5,7,3,3,3,2,7,3,3,3,7,3,7,5,2,7,5,7,3,3,5,5,7,3,5,7,5,7,3,5,1,2,3,3,3,1,7,5,3,1,3,3,5,5,7,3,2,5,5,2,3,3,2,5,5,1,3,7,5,5,3,7,1,3,1,3,3,1,3,7,3,3,5,5,3,1,3,3,5,2,3,3,3,3,7,3,3,1,2,3,5,3,7,3,1,3,3,5,2,7,7,2,1,2,2,3,5,2,7,3,3,3,5,1,3,3,5,1,3,1,7,1,5,3,1,5,3,3,3,1,2,5,3,5,3,5,5,3,5,3,5,3,2,3,3,5,3,7,5,3,7,3,3,3,2,2,5,3,5,3,1,7,7,3,5,3,3,5,1,3,3,7,5,5,5,3,5,3,3,1,5,3,3,3,3,2,3,3,5,3,3,5,3,1,5,3,3,3,3,2,5,2,3,3,7,3,5,3,5,3,3,2,3,7,3,2,2,3,5,3,5,3,3,3,3,2,5,5,3,3,3,3,3,3,2,7,2,2,3,5,3,7,5,7,5,7,2,3,3,3,3,3,5,3,5,3,3,1,3,7,7,7,3,3,3,1,3,7,2,5,3,3,7,1,2,3,3,3,3,5,7,3,1,3,2,3,2,3,3,1,5,2,2,3,3,3,5,1,3,3,3,3,3,3,3,2,2,3,2,2,5,3,3,5,2,5,2,3,3,3,2,3,5,5,3,5,2,2,3,3,3,3,3,7,3,3,1,3,5,5,3,3,3,7,3,5,3,3,5,3,7,3,2,3,3,2,2,3,3,3,3,3,3,7,5,3,3,5,3,7,7,3,3,7,3,5,5,7,7,3,2,7,3,3,5,3,5,5,3,5,7,7,3,3,3,3,3,2,5,2,3,2,3,2,1,5,3,7,3,3,2,3,3,3,3,2,5,3,7,7,3,7,3,2,2,3,7,2,5,2,3,3,5,5,3,5,5,3,3,3,3,3,2,3,3,3,7,3,3,5,7,2,5,5,3,1,5,1,2,3,3,7,3,3,5,1,7,7,2,5,5,7,2,5,3,5,3,2,2,3,5,2,3,3,7,3,3,3,3,3,3,3,3,5,2,3,3,3,2,5,5,1,5,2,1,5,2,2,3,2,2,7,7,7,3,3,3,3,5,3,3,3,3,7,3,2,3,2,3,3,1,3,2,7,3,3,3,3,3,7,7,3,5,2,3,3,3,3,3,5,2,3,3,7,3,3,3,3,2,5,3,2,7,3,2,7,5,3,3,7,3,3,7,7,2,5,5,3,3,3,3,2,2,3,2,5,3,3,3,7,5,3,2,3,3,3,3,5,3,5,7,3,7,5,1,3,5,3,3,2,3,5,5,3,3,3,5,1,5,2,5,5,7,3,7,1,7,3,5,7,7,3,3,5,3,3,2,5,3,7,3,3,3,7,5,3,3,3,3,2,3,3,1,5,3,5,5,5,3,3,3,1,3,3,1,3,5,3,3,5,3,5,5,3,5,5,5,7,3,7,3,2,7,5,3,3,1,3,5,5,2,3,2,2,3,7,3,2,3,3,2,2,5,5,1,3,7,1,5,2,5,5,5,3,3,3,3,2,5,3,3,3,7,3,2,7,3,5,3,1,3,5,1,3,5,3,5,5,3,5,7,7,2,2,5,3,3,3,5,2,3,3,2,5,2,2,3,3,2,3,5,3,2,2,3,5,3,3,5,3,2,1,7,1,3,1,3,2,5,2,5,3,2,2,7,3,2,5,3,3,3,1,2,3,5,3,3,3,7,7,3,3,2,3,3,2,3,3,5,7,2,5,3,3,3,3,3,5,1,5,7,7,2,7,2,7,3,2,2,7,3,3,2,5,2,5,7,3,3,5,5,7,3,3,3,5,5,7,3,1,3,7,3,5,2,5,3,3,7,3,3,5,2,2,3,2,5,3,3,3,3,3,3,3,3,3,3,3,3,2,3,5,3,7,7,5,3,2,3,5,2,3,7,3,3,5,3,2,5,5,5,3,3,5,3,1,7,3,1,5,3,7,3,3,2,3,5,3,3,3,7,2,3,3,5,5,7,1,3,2,2,1,3,5,3,5,3,1,3,2,3,7,3,5,7,5,7,7,5,5,5,3,5,3,5,3,5,7,3,3,5,3,3,3,3,3,2,5,7,2,5,5,7,3,3,5,2,5,3,3,5,5,3,7,3,3,1,5,3,2,3,3,3,3,3,3,5,7,3,2,1,3,2,5,2,2,7,3,2,3,3,2,2,5,2,5,3,2,5,3,1,3,2,5,3,3,3,2,3,7,3,5,5,3,3,7,2,5,3,3,3,7,7,5,3,3,3,3,7,5,5,5,2,5,3,3,7,3,7,5,3,5,2,5,5,2,5,5,3,7,5,3,7,3,3,2,3,3,2,2,5,3,2,3,3,3,1,3,2,1,3,3,7,1,5,3,2,3,5,3,2,3,2,5,5,3,2,3,3,1,3,3,7,3,3,3,3,5,7,5,3,5,3,7,3,7,5,3,3,7,2,3,3,2,3,3,3,5,3,3,3,3,3,2,3,2,5,1,7,5,3,3,5,3,7,3,7,7,3,2,3,3,3,5,2,3,3,3,2,3,5,2,3,1,3,2,2,7,3,1,3,5,5,3,2,3,7,3,3,2,2,3,7,3,5,3,2,3,7,7,5,5,7,2,5,3,5,5,3,7,7,3,5,3,3,3,3,3,5,2,5,1,3,3,5,1,5,3,3,3,5,5,1,2,3,2,3,1,3,7,5,3,7,5,3,3,3,7,2,2,3,5,3,3,1,2,2,5,3,7,3,7,7,3,2,5,5,7,2,7,5,3,2,5,3,3,7,3,5,3,5,5,2,7,5,5,3,3,3,3,3,7,5,3,5,3,7,3,3,5,5,7,2,5,3,3,5,3,5,2,2,5,7,3,1,2,5,5,2,2,5,2,3,3,3,5,3,7,3,1,3,7,3,3,7,2,7,3,3,3,3,3,3,3,5,2,5,1,2,3,3,3,3,5,2,3,5,3,3,3,5,3,3,3,5,3,3,3,5,3,3,2,3,5,5,2,5,3,2,5,3,2,3,3,7,5,3,3,7,3,3,5,7,3,1,3,3,2,3,3,3,3,3,5,2,2,3,3,3,3,3,7,2,5,2,1,3,2,3,3,3,5,3,5,5,7,2,2,3,3,1,3,3,2,3,3,1,3,3,2,5,5,5,1,3,3,3,5,3,5,3,7,5,3,3,3,5,2,3,3,2,3,3,3,3,7,2,2,5,3,3,7,2,5,2,2,7,3,3,2,2,3,5,5,3,3,3,3,2,3,3,5,3,7,2,3,5,2,2,3,5,3,5,5,3,3,3,3,3,7,2,3,5,3,3,3,2,2,3,3,3,2,2,7,3,3,3,3,5,3,3,1,3,3,3,3,3,1,2,7,3,3,3,3,3,3,3,3,2,3,3,5,5,5,5,2,3,3,7,3,2,3,7,3,5,3,3,7,3,5,3,5,3,5,5,2,5,7,3,5,2,5,7,3,1,5,3,7,7,5,3,2,5,3,7,3,3,3,3,3,3,2,5,3,3,5,3,3,7,7,3,3,2,2,5,2,2,3,3,5,5,3,3,3,3,2,7,3,2,7,2,2,2,3,3,3,3,5,3,3,5,5,3,3,3,5,3,3,3,7,3,2,3,5,7,7,5,3,3,3,3,1,7,3,3,5,2,3,7,3,3,2,3,3,3,3,5,7,5,3,3,2,5,1,3,3,3,3,3,3,2,5,7,3,3,3,2,3,7,5,3,3,3,3,3,2,5,3,3,1,2,3,5,5,5,3,3,1,2,3,5,3,2,5,1,7,2,3,3,5,3,3,3,5,5,5,7,3,5,2,1,3,3,7,2,3,7,3,3,3,2,7,7,3,5,3,3,3,3,3,1,1,3,5,3,3,5,7,3,1,3,3,5,1,5,3,7,1,7,3,3,5,5,5,3,3,3,3,3,3,5,3,3,1,5,3,2,3,3,3,3,2,5,3,3,1,5,3,5,3,5,3,2,3,2,3,3,2,5,3,3,3,5,3,3,1,3,2,3,3,3,5,3,3,3,3,3,3,3,3,7,3,3,2,1,5,2,1,5,3,7,3,7,7,7,5,2,3,3,3,3,7,3,3,5,7,3,3,3,5,3,3,2,3,7,2,3,2,3,2,1,2,3,5,3,5,3,3,2,5,3,3,7,1,1,7,1,3,3,7,3,5,3,3,7,3,2,3,5,7,3,5,5,3,5,3,7,5,3,2,1,5,7,2,7,3,5,7,2,3,5,3,2,7,3,3,3,1,3,3,7,2,5,3,7,3,3,3,3,3,5,3,3,3,3,3,3,3,2,3,2,7,5,3,5,2,3,3,5,2,3,1,5,5,3,7,5,3,7,2,3,3,3,3,3,1,3,3,3,3,5,2,3,5,3,7,3,5,3,2,5,3,5,5,2,2,5,3,3,3,3,7,5,1,1,3,2,3,3,1,5,3,7,3,7,3,5,3,2,3,3,3,3,3,5,7,5,5,7,3,5,3,2,5,3,5,5,7,3,3,2,5,5,3,2,2,3,3,3,5,5,3,5,5,5,3,3,2,3,2,3,7,3,7,3,7,1,2,5,7,5,5,5,3,3,7,3,3,5,3,3,2,2,5,7,3,2,2,3,7,3,1,1,3,5,5,3,1,2,3,3,3,3,5,2,5,3,7,5,3,3,2,3,7,1,3,1,3,5,7,5,3,3,2,7,3,3,5,3,3,3,7,3,1,5,3,5,3,3,3,3,3,3,7,5,1,2,2,5,3,2,5,5,3,3,3,3,2,2,3,3,3,3,3,3,3,1,7,5,7,3,5,3,3,3,3,5,3,3,3,7,3,7,2,2],\"y0\":\" \",\"yaxis\":\"y\",\"type\":\"box\"}],                        {\"template\":{\"data\":{\"histogram2dcontour\":[{\"type\":\"histogram2dcontour\",\"colorbar\":{\"outlinewidth\":0,\"ticks\":\"\"},\"colorscale\":[[0.0,\"#0d0887\"],[0.1111111111111111,\"#46039f\"],[0.2222222222222222,\"#7201a8\"],[0.3333333333333333,\"#9c179e\"],[0.4444444444444444,\"#bd3786\"],[0.5555555555555556,\"#d8576b\"],[0.6666666666666666,\"#ed7953\"],[0.7777777777777778,\"#fb9f3a\"],[0.8888888888888888,\"#fdca26\"],[1.0,\"#f0f921\"]]}],\"choropleth\":[{\"type\":\"choropleth\",\"colorbar\":{\"outlinewidth\":0,\"ticks\":\"\"}}],\"histogram2d\":[{\"type\":\"histogram2d\",\"colorbar\":{\"outlinewidth\":0,\"ticks\":\"\"},\"colorscale\":[[0.0,\"#0d0887\"],[0.1111111111111111,\"#46039f\"],[0.2222222222222222,\"#7201a8\"],[0.3333333333333333,\"#9c179e\"],[0.4444444444444444,\"#bd3786\"],[0.5555555555555556,\"#d8576b\"],[0.6666666666666666,\"#ed7953\"],[0.7777777777777778,\"#fb9f3a\"],[0.8888888888888888,\"#fdca26\"],[1.0,\"#f0f921\"]]}],\"heatmap\":[{\"type\":\"heatmap\",\"colorbar\":{\"outlinewidth\":0,\"ticks\":\"\"},\"colorscale\":[[0.0,\"#0d0887\"],[0.1111111111111111,\"#46039f\"],[0.2222222222222222,\"#7201a8\"],[0.3333333333333333,\"#9c179e\"],[0.4444444444444444,\"#bd3786\"],[0.5555555555555556,\"#d8576b\"],[0.6666666666666666,\"#ed7953\"],[0.7777777777777778,\"#fb9f3a\"],[0.8888888888888888,\"#fdca26\"],[1.0,\"#f0f921\"]]}],\"heatmapgl\":[{\"type\":\"heatmapgl\",\"colorbar\":{\"outlinewidth\":0,\"ticks\":\"\"},\"colorscale\":[[0.0,\"#0d0887\"],[0.1111111111111111,\"#46039f\"],[0.2222222222222222,\"#7201a8\"],[0.3333333333333333,\"#9c179e\"],[0.4444444444444444,\"#bd3786\"],[0.5555555555555556,\"#d8576b\"],[0.6666666666666666,\"#ed7953\"],[0.7777777777777778,\"#fb9f3a\"],[0.8888888888888888,\"#fdca26\"],[1.0,\"#f0f921\"]]}],\"contourcarpet\":[{\"type\":\"contourcarpet\",\"colorbar\":{\"outlinewidth\":0,\"ticks\":\"\"}}],\"contour\":[{\"type\":\"contour\",\"colorbar\":{\"outlinewidth\":0,\"ticks\":\"\"},\"colorscale\":[[0.0,\"#0d0887\"],[0.1111111111111111,\"#46039f\"],[0.2222222222222222,\"#7201a8\"],[0.3333333333333333,\"#9c179e\"],[0.4444444444444444,\"#bd3786\"],[0.5555555555555556,\"#d8576b\"],[0.6666666666666666,\"#ed7953\"],[0.7777777777777778,\"#fb9f3a\"],[0.8888888888888888,\"#fdca26\"],[1.0,\"#f0f921\"]]}],\"surface\":[{\"type\":\"surface\",\"colorbar\":{\"outlinewidth\":0,\"ticks\":\"\"},\"colorscale\":[[0.0,\"#0d0887\"],[0.1111111111111111,\"#46039f\"],[0.2222222222222222,\"#7201a8\"],[0.3333333333333333,\"#9c179e\"],[0.4444444444444444,\"#bd3786\"],[0.5555555555555556,\"#d8576b\"],[0.6666666666666666,\"#ed7953\"],[0.7777777777777778,\"#fb9f3a\"],[0.8888888888888888,\"#fdca26\"],[1.0,\"#f0f921\"]]}],\"mesh3d\":[{\"type\":\"mesh3d\",\"colorbar\":{\"outlinewidth\":0,\"ticks\":\"\"}}],\"scatter\":[{\"fillpattern\":{\"fillmode\":\"overlay\",\"size\":10,\"solidity\":0.2},\"type\":\"scatter\"}],\"parcoords\":[{\"type\":\"parcoords\",\"line\":{\"colorbar\":{\"outlinewidth\":0,\"ticks\":\"\"}}}],\"scatterpolargl\":[{\"type\":\"scatterpolargl\",\"marker\":{\"colorbar\":{\"outlinewidth\":0,\"ticks\":\"\"}}}],\"bar\":[{\"error_x\":{\"color\":\"#2a3f5f\"},\"error_y\":{\"color\":\"#2a3f5f\"},\"marker\":{\"line\":{\"color\":\"#E5ECF6\",\"width\":0.5},\"pattern\":{\"fillmode\":\"overlay\",\"size\":10,\"solidity\":0.2}},\"type\":\"bar\"}],\"scattergeo\":[{\"type\":\"scattergeo\",\"marker\":{\"colorbar\":{\"outlinewidth\":0,\"ticks\":\"\"}}}],\"scatterpolar\":[{\"type\":\"scatterpolar\",\"marker\":{\"colorbar\":{\"outlinewidth\":0,\"ticks\":\"\"}}}],\"histogram\":[{\"marker\":{\"pattern\":{\"fillmode\":\"overlay\",\"size\":10,\"solidity\":0.2}},\"type\":\"histogram\"}],\"scattergl\":[{\"type\":\"scattergl\",\"marker\":{\"colorbar\":{\"outlinewidth\":0,\"ticks\":\"\"}}}],\"scatter3d\":[{\"type\":\"scatter3d\",\"line\":{\"colorbar\":{\"outlinewidth\":0,\"ticks\":\"\"}},\"marker\":{\"colorbar\":{\"outlinewidth\":0,\"ticks\":\"\"}}}],\"scattermapbox\":[{\"type\":\"scattermapbox\",\"marker\":{\"colorbar\":{\"outlinewidth\":0,\"ticks\":\"\"}}}],\"scatterternary\":[{\"type\":\"scatterternary\",\"marker\":{\"colorbar\":{\"outlinewidth\":0,\"ticks\":\"\"}}}],\"scattercarpet\":[{\"type\":\"scattercarpet\",\"marker\":{\"colorbar\":{\"outlinewidth\":0,\"ticks\":\"\"}}}],\"carpet\":[{\"aaxis\":{\"endlinecolor\":\"#2a3f5f\",\"gridcolor\":\"white\",\"linecolor\":\"white\",\"minorgridcolor\":\"white\",\"startlinecolor\":\"#2a3f5f\"},\"baxis\":{\"endlinecolor\":\"#2a3f5f\",\"gridcolor\":\"white\",\"linecolor\":\"white\",\"minorgridcolor\":\"white\",\"startlinecolor\":\"#2a3f5f\"},\"type\":\"carpet\"}],\"table\":[{\"cells\":{\"fill\":{\"color\":\"#EBF0F8\"},\"line\":{\"color\":\"white\"}},\"header\":{\"fill\":{\"color\":\"#C8D4E3\"},\"line\":{\"color\":\"white\"}},\"type\":\"table\"}],\"barpolar\":[{\"marker\":{\"line\":{\"color\":\"#E5ECF6\",\"width\":0.5},\"pattern\":{\"fillmode\":\"overlay\",\"size\":10,\"solidity\":0.2}},\"type\":\"barpolar\"}],\"pie\":[{\"automargin\":true,\"type\":\"pie\"}]},\"layout\":{\"autotypenumbers\":\"strict\",\"colorway\":[\"#636efa\",\"#EF553B\",\"#00cc96\",\"#ab63fa\",\"#FFA15A\",\"#19d3f3\",\"#FF6692\",\"#B6E880\",\"#FF97FF\",\"#FECB52\"],\"font\":{\"color\":\"#2a3f5f\"},\"hovermode\":\"closest\",\"hoverlabel\":{\"align\":\"left\"},\"paper_bgcolor\":\"white\",\"plot_bgcolor\":\"#E5ECF6\",\"polar\":{\"bgcolor\":\"#E5ECF6\",\"angularaxis\":{\"gridcolor\":\"white\",\"linecolor\":\"white\",\"ticks\":\"\"},\"radialaxis\":{\"gridcolor\":\"white\",\"linecolor\":\"white\",\"ticks\":\"\"}},\"ternary\":{\"bgcolor\":\"#E5ECF6\",\"aaxis\":{\"gridcolor\":\"white\",\"linecolor\":\"white\",\"ticks\":\"\"},\"baxis\":{\"gridcolor\":\"white\",\"linecolor\":\"white\",\"ticks\":\"\"},\"caxis\":{\"gridcolor\":\"white\",\"linecolor\":\"white\",\"ticks\":\"\"}},\"coloraxis\":{\"colorbar\":{\"outlinewidth\":0,\"ticks\":\"\"}},\"colorscale\":{\"sequential\":[[0.0,\"#0d0887\"],[0.1111111111111111,\"#46039f\"],[0.2222222222222222,\"#7201a8\"],[0.3333333333333333,\"#9c179e\"],[0.4444444444444444,\"#bd3786\"],[0.5555555555555556,\"#d8576b\"],[0.6666666666666666,\"#ed7953\"],[0.7777777777777778,\"#fb9f3a\"],[0.8888888888888888,\"#fdca26\"],[1.0,\"#f0f921\"]],\"sequentialminus\":[[0.0,\"#0d0887\"],[0.1111111111111111,\"#46039f\"],[0.2222222222222222,\"#7201a8\"],[0.3333333333333333,\"#9c179e\"],[0.4444444444444444,\"#bd3786\"],[0.5555555555555556,\"#d8576b\"],[0.6666666666666666,\"#ed7953\"],[0.7777777777777778,\"#fb9f3a\"],[0.8888888888888888,\"#fdca26\"],[1.0,\"#f0f921\"]],\"diverging\":[[0,\"#8e0152\"],[0.1,\"#c51b7d\"],[0.2,\"#de77ae\"],[0.3,\"#f1b6da\"],[0.4,\"#fde0ef\"],[0.5,\"#f7f7f7\"],[0.6,\"#e6f5d0\"],[0.7,\"#b8e186\"],[0.8,\"#7fbc41\"],[0.9,\"#4d9221\"],[1,\"#276419\"]]},\"xaxis\":{\"gridcolor\":\"white\",\"linecolor\":\"white\",\"ticks\":\"\",\"title\":{\"standoff\":15},\"zerolinecolor\":\"white\",\"automargin\":true,\"zerolinewidth\":2},\"yaxis\":{\"gridcolor\":\"white\",\"linecolor\":\"white\",\"ticks\":\"\",\"title\":{\"standoff\":15},\"zerolinecolor\":\"white\",\"automargin\":true,\"zerolinewidth\":2},\"scene\":{\"xaxis\":{\"backgroundcolor\":\"#E5ECF6\",\"gridcolor\":\"white\",\"linecolor\":\"white\",\"showbackground\":true,\"ticks\":\"\",\"zerolinecolor\":\"white\",\"gridwidth\":2},\"yaxis\":{\"backgroundcolor\":\"#E5ECF6\",\"gridcolor\":\"white\",\"linecolor\":\"white\",\"showbackground\":true,\"ticks\":\"\",\"zerolinecolor\":\"white\",\"gridwidth\":2},\"zaxis\":{\"backgroundcolor\":\"#E5ECF6\",\"gridcolor\":\"white\",\"linecolor\":\"white\",\"showbackground\":true,\"ticks\":\"\",\"zerolinecolor\":\"white\",\"gridwidth\":2}},\"shapedefaults\":{\"line\":{\"color\":\"#2a3f5f\"}},\"annotationdefaults\":{\"arrowcolor\":\"#2a3f5f\",\"arrowhead\":0,\"arrowwidth\":1},\"geo\":{\"bgcolor\":\"white\",\"landcolor\":\"#E5ECF6\",\"subunitcolor\":\"white\",\"showland\":true,\"showlakes\":true,\"lakecolor\":\"white\"},\"title\":{\"x\":0.05},\"mapbox\":{\"style\":\"light\"}}},\"xaxis\":{\"anchor\":\"y\",\"domain\":[0.0,1.0],\"title\":{\"text\":\"Region\"}},\"yaxis\":{\"anchor\":\"x\",\"domain\":[0.0,1.0],\"title\":{\"text\":\"Delivery Time (days)\"}},\"legend\":{\"tracegroupgap\":0},\"title\":{\"text\":\"Delivery Days Distribution by Region\"},\"boxmode\":\"group\",\"height\":450},                        {\"responsive\": true}                    ).then(function(){\n",
              "                            \n",
              "var gd = document.getElementById('4591b688-a312-446e-93cd-2d5ae525358a');\n",
              "var x = new MutationObserver(function (mutations, observer) {{\n",
              "        var display = window.getComputedStyle(gd).display;\n",
              "        if (!display || display === 'none') {{\n",
              "            console.log([gd, 'removed!']);\n",
              "            Plotly.purge(gd);\n",
              "            observer.disconnect();\n",
              "        }}\n",
              "}});\n",
              "\n",
              "// Listen for the removal of the full notebook cells\n",
              "var notebookContainer = gd.closest('#notebook-container');\n",
              "if (notebookContainer) {{\n",
              "    x.observe(notebookContainer, {childList: true});\n",
              "}}\n",
              "\n",
              "// Listen for the clearing of the current output cell\n",
              "var outputEl = gd.closest('.output');\n",
              "if (outputEl) {{\n",
              "    x.observe(outputEl, {childList: true});\n",
              "}}\n",
              "\n",
              "                        })                };                            </script>        </div>\n",
              "</body>\n",
              "</html>"
            ]
          },
          "metadata": {}
        },
        {
          "output_type": "display_data",
          "data": {
            "text/html": [
              "<html>\n",
              "<head><meta charset=\"utf-8\" /></head>\n",
              "<body>\n",
              "    <div>            <script src=\"https://cdnjs.cloudflare.com/ajax/libs/mathjax/2.7.5/MathJax.js?config=TeX-AMS-MML_SVG\"></script><script type=\"text/javascript\">if (window.MathJax && window.MathJax.Hub && window.MathJax.Hub.Config) {window.MathJax.Hub.Config({SVG: {font: \"STIX-Web\"}});}</script>                <script type=\"text/javascript\">window.PlotlyConfig = {MathJaxConfig: 'local'};</script>\n",
              "        <script charset=\"utf-8\" src=\"https://cdn.plot.ly/plotly-2.35.2.min.js\"></script>                <div id=\"6859ec3f-ffba-4633-97fb-b04fc95f3f0c\" class=\"plotly-graph-div\" style=\"height:525px; width:100%;\"></div>            <script type=\"text/javascript\">                                    window.PLOTLYENV=window.PLOTLYENV || {};                                    if (document.getElementById(\"6859ec3f-ffba-4633-97fb-b04fc95f3f0c\")) {                    Plotly.newPlot(                        \"6859ec3f-ffba-4633-97fb-b04fc95f3f0c\",                        [{\"domain\":{\"x\":[0.0,1.0],\"y\":[0.0,1.0]},\"hole\":0.3,\"hovertemplate\":\"Segment=%{label}\\u003cbr\\u003eSales=%{value}\\u003cextra\\u003e\\u003c\\u002fextra\\u003e\",\"labels\":[\"Consumer\",\"Corporate\",\"Home Office\"],\"legendgroup\":\"\",\"name\":\"\",\"showlegend\":true,\"values\":[1343031.44,766800.06,343981.91],\"type\":\"pie\",\"textinfo\":\"percent+label\"}],                        {\"template\":{\"data\":{\"histogram2dcontour\":[{\"type\":\"histogram2dcontour\",\"colorbar\":{\"outlinewidth\":0,\"ticks\":\"\"},\"colorscale\":[[0.0,\"#0d0887\"],[0.1111111111111111,\"#46039f\"],[0.2222222222222222,\"#7201a8\"],[0.3333333333333333,\"#9c179e\"],[0.4444444444444444,\"#bd3786\"],[0.5555555555555556,\"#d8576b\"],[0.6666666666666666,\"#ed7953\"],[0.7777777777777778,\"#fb9f3a\"],[0.8888888888888888,\"#fdca26\"],[1.0,\"#f0f921\"]]}],\"choropleth\":[{\"type\":\"choropleth\",\"colorbar\":{\"outlinewidth\":0,\"ticks\":\"\"}}],\"histogram2d\":[{\"type\":\"histogram2d\",\"colorbar\":{\"outlinewidth\":0,\"ticks\":\"\"},\"colorscale\":[[0.0,\"#0d0887\"],[0.1111111111111111,\"#46039f\"],[0.2222222222222222,\"#7201a8\"],[0.3333333333333333,\"#9c179e\"],[0.4444444444444444,\"#bd3786\"],[0.5555555555555556,\"#d8576b\"],[0.6666666666666666,\"#ed7953\"],[0.7777777777777778,\"#fb9f3a\"],[0.8888888888888888,\"#fdca26\"],[1.0,\"#f0f921\"]]}],\"heatmap\":[{\"type\":\"heatmap\",\"colorbar\":{\"outlinewidth\":0,\"ticks\":\"\"},\"colorscale\":[[0.0,\"#0d0887\"],[0.1111111111111111,\"#46039f\"],[0.2222222222222222,\"#7201a8\"],[0.3333333333333333,\"#9c179e\"],[0.4444444444444444,\"#bd3786\"],[0.5555555555555556,\"#d8576b\"],[0.6666666666666666,\"#ed7953\"],[0.7777777777777778,\"#fb9f3a\"],[0.8888888888888888,\"#fdca26\"],[1.0,\"#f0f921\"]]}],\"heatmapgl\":[{\"type\":\"heatmapgl\",\"colorbar\":{\"outlinewidth\":0,\"ticks\":\"\"},\"colorscale\":[[0.0,\"#0d0887\"],[0.1111111111111111,\"#46039f\"],[0.2222222222222222,\"#7201a8\"],[0.3333333333333333,\"#9c179e\"],[0.4444444444444444,\"#bd3786\"],[0.5555555555555556,\"#d8576b\"],[0.6666666666666666,\"#ed7953\"],[0.7777777777777778,\"#fb9f3a\"],[0.8888888888888888,\"#fdca26\"],[1.0,\"#f0f921\"]]}],\"contourcarpet\":[{\"type\":\"contourcarpet\",\"colorbar\":{\"outlinewidth\":0,\"ticks\":\"\"}}],\"contour\":[{\"type\":\"contour\",\"colorbar\":{\"outlinewidth\":0,\"ticks\":\"\"},\"colorscale\":[[0.0,\"#0d0887\"],[0.1111111111111111,\"#46039f\"],[0.2222222222222222,\"#7201a8\"],[0.3333333333333333,\"#9c179e\"],[0.4444444444444444,\"#bd3786\"],[0.5555555555555556,\"#d8576b\"],[0.6666666666666666,\"#ed7953\"],[0.7777777777777778,\"#fb9f3a\"],[0.8888888888888888,\"#fdca26\"],[1.0,\"#f0f921\"]]}],\"surface\":[{\"type\":\"surface\",\"colorbar\":{\"outlinewidth\":0,\"ticks\":\"\"},\"colorscale\":[[0.0,\"#0d0887\"],[0.1111111111111111,\"#46039f\"],[0.2222222222222222,\"#7201a8\"],[0.3333333333333333,\"#9c179e\"],[0.4444444444444444,\"#bd3786\"],[0.5555555555555556,\"#d8576b\"],[0.6666666666666666,\"#ed7953\"],[0.7777777777777778,\"#fb9f3a\"],[0.8888888888888888,\"#fdca26\"],[1.0,\"#f0f921\"]]}],\"mesh3d\":[{\"type\":\"mesh3d\",\"colorbar\":{\"outlinewidth\":0,\"ticks\":\"\"}}],\"scatter\":[{\"fillpattern\":{\"fillmode\":\"overlay\",\"size\":10,\"solidity\":0.2},\"type\":\"scatter\"}],\"parcoords\":[{\"type\":\"parcoords\",\"line\":{\"colorbar\":{\"outlinewidth\":0,\"ticks\":\"\"}}}],\"scatterpolargl\":[{\"type\":\"scatterpolargl\",\"marker\":{\"colorbar\":{\"outlinewidth\":0,\"ticks\":\"\"}}}],\"bar\":[{\"error_x\":{\"color\":\"#2a3f5f\"},\"error_y\":{\"color\":\"#2a3f5f\"},\"marker\":{\"line\":{\"color\":\"#E5ECF6\",\"width\":0.5},\"pattern\":{\"fillmode\":\"overlay\",\"size\":10,\"solidity\":0.2}},\"type\":\"bar\"}],\"scattergeo\":[{\"type\":\"scattergeo\",\"marker\":{\"colorbar\":{\"outlinewidth\":0,\"ticks\":\"\"}}}],\"scatterpolar\":[{\"type\":\"scatterpolar\",\"marker\":{\"colorbar\":{\"outlinewidth\":0,\"ticks\":\"\"}}}],\"histogram\":[{\"marker\":{\"pattern\":{\"fillmode\":\"overlay\",\"size\":10,\"solidity\":0.2}},\"type\":\"histogram\"}],\"scattergl\":[{\"type\":\"scattergl\",\"marker\":{\"colorbar\":{\"outlinewidth\":0,\"ticks\":\"\"}}}],\"scatter3d\":[{\"type\":\"scatter3d\",\"line\":{\"colorbar\":{\"outlinewidth\":0,\"ticks\":\"\"}},\"marker\":{\"colorbar\":{\"outlinewidth\":0,\"ticks\":\"\"}}}],\"scattermapbox\":[{\"type\":\"scattermapbox\",\"marker\":{\"colorbar\":{\"outlinewidth\":0,\"ticks\":\"\"}}}],\"scatterternary\":[{\"type\":\"scatterternary\",\"marker\":{\"colorbar\":{\"outlinewidth\":0,\"ticks\":\"\"}}}],\"scattercarpet\":[{\"type\":\"scattercarpet\",\"marker\":{\"colorbar\":{\"outlinewidth\":0,\"ticks\":\"\"}}}],\"carpet\":[{\"aaxis\":{\"endlinecolor\":\"#2a3f5f\",\"gridcolor\":\"white\",\"linecolor\":\"white\",\"minorgridcolor\":\"white\",\"startlinecolor\":\"#2a3f5f\"},\"baxis\":{\"endlinecolor\":\"#2a3f5f\",\"gridcolor\":\"white\",\"linecolor\":\"white\",\"minorgridcolor\":\"white\",\"startlinecolor\":\"#2a3f5f\"},\"type\":\"carpet\"}],\"table\":[{\"cells\":{\"fill\":{\"color\":\"#EBF0F8\"},\"line\":{\"color\":\"white\"}},\"header\":{\"fill\":{\"color\":\"#C8D4E3\"},\"line\":{\"color\":\"white\"}},\"type\":\"table\"}],\"barpolar\":[{\"marker\":{\"line\":{\"color\":\"#E5ECF6\",\"width\":0.5},\"pattern\":{\"fillmode\":\"overlay\",\"size\":10,\"solidity\":0.2}},\"type\":\"barpolar\"}],\"pie\":[{\"automargin\":true,\"type\":\"pie\"}]},\"layout\":{\"autotypenumbers\":\"strict\",\"colorway\":[\"#636efa\",\"#EF553B\",\"#00cc96\",\"#ab63fa\",\"#FFA15A\",\"#19d3f3\",\"#FF6692\",\"#B6E880\",\"#FF97FF\",\"#FECB52\"],\"font\":{\"color\":\"#2a3f5f\"},\"hovermode\":\"closest\",\"hoverlabel\":{\"align\":\"left\"},\"paper_bgcolor\":\"white\",\"plot_bgcolor\":\"#E5ECF6\",\"polar\":{\"bgcolor\":\"#E5ECF6\",\"angularaxis\":{\"gridcolor\":\"white\",\"linecolor\":\"white\",\"ticks\":\"\"},\"radialaxis\":{\"gridcolor\":\"white\",\"linecolor\":\"white\",\"ticks\":\"\"}},\"ternary\":{\"bgcolor\":\"#E5ECF6\",\"aaxis\":{\"gridcolor\":\"white\",\"linecolor\":\"white\",\"ticks\":\"\"},\"baxis\":{\"gridcolor\":\"white\",\"linecolor\":\"white\",\"ticks\":\"\"},\"caxis\":{\"gridcolor\":\"white\",\"linecolor\":\"white\",\"ticks\":\"\"}},\"coloraxis\":{\"colorbar\":{\"outlinewidth\":0,\"ticks\":\"\"}},\"colorscale\":{\"sequential\":[[0.0,\"#0d0887\"],[0.1111111111111111,\"#46039f\"],[0.2222222222222222,\"#7201a8\"],[0.3333333333333333,\"#9c179e\"],[0.4444444444444444,\"#bd3786\"],[0.5555555555555556,\"#d8576b\"],[0.6666666666666666,\"#ed7953\"],[0.7777777777777778,\"#fb9f3a\"],[0.8888888888888888,\"#fdca26\"],[1.0,\"#f0f921\"]],\"sequentialminus\":[[0.0,\"#0d0887\"],[0.1111111111111111,\"#46039f\"],[0.2222222222222222,\"#7201a8\"],[0.3333333333333333,\"#9c179e\"],[0.4444444444444444,\"#bd3786\"],[0.5555555555555556,\"#d8576b\"],[0.6666666666666666,\"#ed7953\"],[0.7777777777777778,\"#fb9f3a\"],[0.8888888888888888,\"#fdca26\"],[1.0,\"#f0f921\"]],\"diverging\":[[0,\"#8e0152\"],[0.1,\"#c51b7d\"],[0.2,\"#de77ae\"],[0.3,\"#f1b6da\"],[0.4,\"#fde0ef\"],[0.5,\"#f7f7f7\"],[0.6,\"#e6f5d0\"],[0.7,\"#b8e186\"],[0.8,\"#7fbc41\"],[0.9,\"#4d9221\"],[1,\"#276419\"]]},\"xaxis\":{\"gridcolor\":\"white\",\"linecolor\":\"white\",\"ticks\":\"\",\"title\":{\"standoff\":15},\"zerolinecolor\":\"white\",\"automargin\":true,\"zerolinewidth\":2},\"yaxis\":{\"gridcolor\":\"white\",\"linecolor\":\"white\",\"ticks\":\"\",\"title\":{\"standoff\":15},\"zerolinecolor\":\"white\",\"automargin\":true,\"zerolinewidth\":2},\"scene\":{\"xaxis\":{\"backgroundcolor\":\"#E5ECF6\",\"gridcolor\":\"white\",\"linecolor\":\"white\",\"showbackground\":true,\"ticks\":\"\",\"zerolinecolor\":\"white\",\"gridwidth\":2},\"yaxis\":{\"backgroundcolor\":\"#E5ECF6\",\"gridcolor\":\"white\",\"linecolor\":\"white\",\"showbackground\":true,\"ticks\":\"\",\"zerolinecolor\":\"white\",\"gridwidth\":2},\"zaxis\":{\"backgroundcolor\":\"#E5ECF6\",\"gridcolor\":\"white\",\"linecolor\":\"white\",\"showbackground\":true,\"ticks\":\"\",\"zerolinecolor\":\"white\",\"gridwidth\":2}},\"shapedefaults\":{\"line\":{\"color\":\"#2a3f5f\"}},\"annotationdefaults\":{\"arrowcolor\":\"#2a3f5f\",\"arrowhead\":0,\"arrowwidth\":1},\"geo\":{\"bgcolor\":\"white\",\"landcolor\":\"#E5ECF6\",\"subunitcolor\":\"white\",\"showland\":true,\"showlakes\":true,\"lakecolor\":\"white\"},\"title\":{\"x\":0.05},\"mapbox\":{\"style\":\"light\"}}},\"legend\":{\"tracegroupgap\":0},\"title\":{\"text\":\"Sales Share by Customer Segment\"}},                        {\"responsive\": true}                    ).then(function(){\n",
              "                            \n",
              "var gd = document.getElementById('6859ec3f-ffba-4633-97fb-b04fc95f3f0c');\n",
              "var x = new MutationObserver(function (mutations, observer) {{\n",
              "        var display = window.getComputedStyle(gd).display;\n",
              "        if (!display || display === 'none') {{\n",
              "            console.log([gd, 'removed!']);\n",
              "            Plotly.purge(gd);\n",
              "            observer.disconnect();\n",
              "        }}\n",
              "}});\n",
              "\n",
              "// Listen for the removal of the full notebook cells\n",
              "var notebookContainer = gd.closest('#notebook-container');\n",
              "if (notebookContainer) {{\n",
              "    x.observe(notebookContainer, {childList: true});\n",
              "}}\n",
              "\n",
              "// Listen for the clearing of the current output cell\n",
              "var outputEl = gd.closest('.output');\n",
              "if (outputEl) {{\n",
              "    x.observe(outputEl, {childList: true});\n",
              "}}\n",
              "\n",
              "                        })                };                            </script>        </div>\n",
              "</body>\n",
              "</html>"
            ]
          },
          "metadata": {}
        }
      ]
    },
    {
      "cell_type": "code",
      "source": [
        "sales_series = monthly.set_index('Month_dt')['Sales']\n",
        "model = ARIMA(sales_series, order=(1,1,1)).fit()\n",
        "f = model.get_forecast(steps=6)\n",
        "fidx = pd.date_range(start=sales_series.index[-1] + pd.offsets.MonthBegin(1), periods=6, freq='MS')\n",
        "fc = pd.DataFrame({'Month': fidx, 'Forecast': f.predicted_mean, 'Lower': f.conf_int().iloc[:,0].values, 'Upper': f.conf_int().iloc[:,1].values})\n",
        "plt.figure(figsize=(10,4))\n",
        "plt.plot(sales_series.index, sales_series, label='Historical')\n",
        "plt.plot(fc['Month'], fc['Forecast'], label='Forecast', linestyle='--')\n",
        "plt.fill_between(fc['Month'], fc['Lower'], fc['Upper'], alpha=0.2)\n",
        "plt.legend(); plt.title(\"Monthly Sales Forecast (ARIMA)\")\n",
        "plt.show()\n",
        "# Manually save this plot from the notebook viewer as \"sales_forecast.png\" if needed.\n"
      ],
      "metadata": {
        "colab": {
          "base_uri": "https://localhost:8080/",
          "height": 599
        },
        "id": "FwwkbjvbBF-K",
        "outputId": "61c08aa2-3dd2-44cb-d2f5-9cd0408bf062"
      },
      "execution_count": 13,
      "outputs": [
        {
          "output_type": "stream",
          "name": "stderr",
          "text": [
            "/usr/local/lib/python3.12/dist-packages/statsmodels/tsa/base/tsa_model.py:473: ValueWarning:\n",
            "\n",
            "No frequency information was provided, so inferred frequency MS will be used.\n",
            "\n",
            "/usr/local/lib/python3.12/dist-packages/statsmodels/tsa/base/tsa_model.py:473: ValueWarning:\n",
            "\n",
            "No frequency information was provided, so inferred frequency MS will be used.\n",
            "\n",
            "/usr/local/lib/python3.12/dist-packages/statsmodels/tsa/base/tsa_model.py:473: ValueWarning:\n",
            "\n",
            "No frequency information was provided, so inferred frequency MS will be used.\n",
            "\n"
          ]
        },
        {
          "output_type": "display_data",
          "data": {
            "text/plain": [
              "<Figure size 1000x400 with 1 Axes>"
            ],
            "image/png": "[encoded data removed]"
          },
          "metadata": {}
        }
      ]
    },
    {
      "cell_type": "code",
      "source": [
        "import os\n",
        "os.makedirs(\"data\", exist_ok=True)\n",
        "df.to_csv(\"data/superstore_clean.csv\", index=False)\n",
        "print(\"Saved cleaned csv -> data/superstore_clean.csv\")\n"
      ],
      "metadata": {
        "colab": {
          "base_uri": "https://localhost:8080/"
        },
        "id": "NaPXZES8BH5I",
        "outputId": "334820e6-0365-423e-9bec-68d0ec934c48"
      },
      "execution_count": 14,
      "outputs": [
        {
          "output_type": "stream",
          "name": "stdout",
          "text": [
            "Saved cleaned csv -> data/superstore_clean.csv\n"
          ]
        }
      ]
    }
  ]
}